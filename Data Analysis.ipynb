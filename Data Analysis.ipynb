{
 "cells": [
  {
   "cell_type": "code",
   "execution_count": 1,
   "metadata": {},
   "outputs": [],
   "source": [
    "import os\n",
    "import numpy as np\n",
    "import pandas as pd\n",
    "import matplotlib.pyplot as plt\n",
    "#import fancyimpute\n",
    "\n",
    "from sklearn.metrics import roc_curve\n",
    "from sklearn.preprocessing import StandardScaler\n",
    "from sklearn.decomposition import PCA\n",
    "from sklearn.model_selection import train_test_split, cross_val_score\n",
    "from sklearn.ensemble import RandomForestClassifier\n",
    "\n",
    "from imblearn.pipeline import make_pipeline as make_imb_pipeline\n",
    "from imblearn.under_sampling import RandomUnderSampler\n",
    "from imblearn.over_sampling import  RandomOverSampler, SMOTE"
   ]
  },
  {
   "cell_type": "code",
   "execution_count": 2,
   "metadata": {
    "collapsed": true
   },
   "outputs": [],
   "source": [
    "data = pd.read_excel('bank/bank-data.xlsx', '1')"
   ]
  },
  {
   "cell_type": "markdown",
   "metadata": {},
   "source": [
    "### Quick Look at Data\n",
    "\n",
    "In this dataset, there are total 45211 observations, with 39922 \"no\" response and 5289 \"yes\" response, which means it is an imbalance dataset. Imbalanced data refers to a problem with classification problems where the classes are not represented equally. The ratio of Class *no* to Class *yes* is more than 70:30.\n",
    "\n",
    "Accurancy is not the metric to use when working with an imbalanced dataset. Instead, we can use confusion matrix, precison, recall, F1 score, ROC curves.\n",
    "- **Confusion Matrix**: a table showing correct predictions (the diagonal) and the types of incorrect predictions made\n",
    "- **Precision**: a measure of a classifiers exactness $$\\frac{True Positive}{True Positive + False Postive}$$\n",
    "- **Recall**: a measure of classifiers completeness\n",
    "$$\\frac{True Positive}{True Positive + False Negative}$$\n",
    "- **F1 Score**: a weighted average of precision and recall\n",
    "$$F = 2\\cdot \\frac{precision\\cdot recall}{precision+recall}$$\n",
    "\n",
    "Also, we need to sampling our dataset so that we will have even-up classes. \n",
    "- Over-sampling:\n",
    "- Under-sampling:\n",
    "\n",
    "Besides, generating synthetic samples to randomly sample the attributes from instances in the minority class.\n"
   ]
  },
  {
   "cell_type": "code",
   "execution_count": 3,
   "metadata": {},
   "outputs": [
    {
     "data": {
      "text/plain": [
       "no     39922\n",
       "yes     5289\n",
       "Name: y, dtype: int64"
      ]
     },
     "execution_count": 3,
     "metadata": {},
     "output_type": "execute_result"
    }
   ],
   "source": [
    "data['y'].value_counts()"
   ]
  },
  {
   "cell_type": "markdown",
   "metadata": {},
   "source": [
    "### Exploratory Data Analysis\n",
    "\n",
    "Before doing any exploratory data analysis, let's look into data and try to understand it.\n",
    "\n",
    "- Categorical varibales: job, marital, education, default, housing, loan, contact, month, poutcome\n",
    "- Numerical variables: age, balance, day, duration, campaign, pdays, previous"
   ]
  },
  {
   "cell_type": "code",
   "execution_count": 4,
   "metadata": {},
   "outputs": [
    {
     "data": {
      "text/html": [
       "<div>\n",
       "<style>\n",
       "    .dataframe thead tr:only-child th {\n",
       "        text-align: right;\n",
       "    }\n",
       "\n",
       "    .dataframe thead th {\n",
       "        text-align: left;\n",
       "    }\n",
       "\n",
       "    .dataframe tbody tr th {\n",
       "        vertical-align: top;\n",
       "    }\n",
       "</style>\n",
       "<table border=\"1\" class=\"dataframe\">\n",
       "  <thead>\n",
       "    <tr style=\"text-align: right;\">\n",
       "      <th></th>\n",
       "      <th>age</th>\n",
       "      <th>job</th>\n",
       "      <th>marital</th>\n",
       "      <th>education</th>\n",
       "      <th>default</th>\n",
       "      <th>balance</th>\n",
       "      <th>housing</th>\n",
       "      <th>loan</th>\n",
       "      <th>contact</th>\n",
       "      <th>day</th>\n",
       "      <th>month</th>\n",
       "      <th>duration</th>\n",
       "      <th>campaign</th>\n",
       "      <th>pdays</th>\n",
       "      <th>previous</th>\n",
       "      <th>poutcome</th>\n",
       "    </tr>\n",
       "  </thead>\n",
       "  <tbody>\n",
       "    <tr>\n",
       "      <th>0</th>\n",
       "      <td>58</td>\n",
       "      <td>management</td>\n",
       "      <td>married</td>\n",
       "      <td>tertiary</td>\n",
       "      <td>no</td>\n",
       "      <td>2143</td>\n",
       "      <td>yes</td>\n",
       "      <td>no</td>\n",
       "      <td>unknown</td>\n",
       "      <td>5</td>\n",
       "      <td>may</td>\n",
       "      <td>261</td>\n",
       "      <td>1</td>\n",
       "      <td>-1</td>\n",
       "      <td>0</td>\n",
       "      <td>unknown</td>\n",
       "    </tr>\n",
       "    <tr>\n",
       "      <th>1</th>\n",
       "      <td>44</td>\n",
       "      <td>technician</td>\n",
       "      <td>single</td>\n",
       "      <td>secondary</td>\n",
       "      <td>no</td>\n",
       "      <td>29</td>\n",
       "      <td>yes</td>\n",
       "      <td>no</td>\n",
       "      <td>unknown</td>\n",
       "      <td>5</td>\n",
       "      <td>may</td>\n",
       "      <td>151</td>\n",
       "      <td>1</td>\n",
       "      <td>-1</td>\n",
       "      <td>0</td>\n",
       "      <td>unknown</td>\n",
       "    </tr>\n",
       "    <tr>\n",
       "      <th>2</th>\n",
       "      <td>33</td>\n",
       "      <td>entrepreneur</td>\n",
       "      <td>married</td>\n",
       "      <td>secondary</td>\n",
       "      <td>no</td>\n",
       "      <td>2</td>\n",
       "      <td>yes</td>\n",
       "      <td>yes</td>\n",
       "      <td>unknown</td>\n",
       "      <td>5</td>\n",
       "      <td>may</td>\n",
       "      <td>76</td>\n",
       "      <td>1</td>\n",
       "      <td>-1</td>\n",
       "      <td>0</td>\n",
       "      <td>unknown</td>\n",
       "    </tr>\n",
       "    <tr>\n",
       "      <th>3</th>\n",
       "      <td>47</td>\n",
       "      <td>blue-collar</td>\n",
       "      <td>married</td>\n",
       "      <td>unknown</td>\n",
       "      <td>no</td>\n",
       "      <td>1506</td>\n",
       "      <td>yes</td>\n",
       "      <td>no</td>\n",
       "      <td>unknown</td>\n",
       "      <td>5</td>\n",
       "      <td>may</td>\n",
       "      <td>92</td>\n",
       "      <td>1</td>\n",
       "      <td>-1</td>\n",
       "      <td>0</td>\n",
       "      <td>unknown</td>\n",
       "    </tr>\n",
       "    <tr>\n",
       "      <th>4</th>\n",
       "      <td>33</td>\n",
       "      <td>unknown</td>\n",
       "      <td>single</td>\n",
       "      <td>unknown</td>\n",
       "      <td>no</td>\n",
       "      <td>1</td>\n",
       "      <td>no</td>\n",
       "      <td>no</td>\n",
       "      <td>unknown</td>\n",
       "      <td>5</td>\n",
       "      <td>may</td>\n",
       "      <td>198</td>\n",
       "      <td>1</td>\n",
       "      <td>-1</td>\n",
       "      <td>0</td>\n",
       "      <td>unknown</td>\n",
       "    </tr>\n",
       "  </tbody>\n",
       "</table>\n",
       "</div>"
      ],
      "text/plain": [
       "   age           job  marital  education default  balance housing loan  \\\n",
       "0   58    management  married   tertiary      no     2143     yes   no   \n",
       "1   44    technician   single  secondary      no       29     yes   no   \n",
       "2   33  entrepreneur  married  secondary      no        2     yes  yes   \n",
       "3   47   blue-collar  married    unknown      no     1506     yes   no   \n",
       "4   33       unknown   single    unknown      no        1      no   no   \n",
       "\n",
       "   contact  day month  duration  campaign  pdays  previous poutcome  \n",
       "0  unknown    5   may       261         1     -1         0  unknown  \n",
       "1  unknown    5   may       151         1     -1         0  unknown  \n",
       "2  unknown    5   may        76         1     -1         0  unknown  \n",
       "3  unknown    5   may        92         1     -1         0  unknown  \n",
       "4  unknown    5   may       198         1     -1         0  unknown  "
      ]
     },
     "execution_count": 4,
     "metadata": {},
     "output_type": "execute_result"
    }
   ],
   "source": [
    "preview = pd.DataFrame(data, columns=data.columns[:-1])\n",
    "preview.head()"
   ]
  },
  {
   "cell_type": "code",
   "execution_count": 12,
   "metadata": {},
   "outputs": [
    {
     "name": "stdout",
     "output_type": "stream",
     "text": [
      "\n",
      "job\n",
      "blue-collar      9732\n",
      "management       9458\n",
      "technician       7597\n",
      "admin.           5171\n",
      "services         4154\n",
      "retired          2264\n",
      "self-employed    1579\n",
      "entrepreneur     1487\n",
      "unemployed       1303\n",
      "housemaid        1240\n",
      "student           938\n",
      "unknown           288\n",
      "Name: job, dtype: int64\n",
      "\n",
      "marital\n",
      "married     27214\n",
      "single      12790\n",
      "divorced     5207\n",
      "Name: marital, dtype: int64\n",
      "\n",
      "education\n",
      "secondary    23202\n",
      "tertiary     13301\n",
      "primary       6851\n",
      "unknown       1857\n",
      "Name: education, dtype: int64\n",
      "\n",
      "default\n",
      "no     44396\n",
      "yes      815\n",
      "Name: default, dtype: int64\n",
      "\n",
      "housing\n",
      "yes    25130\n",
      "no     20081\n",
      "Name: housing, dtype: int64\n",
      "\n",
      "loan\n",
      "no     37967\n",
      "yes     7244\n",
      "Name: loan, dtype: int64\n",
      "\n",
      "contact\n",
      "cellular     29285\n",
      "unknown      13020\n",
      "telephone     2906\n",
      "Name: contact, dtype: int64\n",
      "\n",
      "month\n",
      "may    13766\n",
      "jul     6895\n",
      "aug     6247\n",
      "jun     5341\n",
      "nov     3970\n",
      "apr     2932\n",
      "feb     2649\n",
      "jan     1403\n",
      "oct      738\n",
      "sep      579\n",
      "mar      477\n",
      "dec      214\n",
      "Name: month, dtype: int64\n",
      "\n",
      "poutcome\n",
      "unknown    36959\n",
      "failure     4901\n",
      "other       1840\n",
      "success     1511\n",
      "Name: poutcome, dtype: int64\n"
     ]
    }
   ],
   "source": [
    "numerical = ['age','balance','day','duration','campaign','pday','previous']\n",
    "categorical = ['job','marital','education','default','housing',\n",
    "              'loan','contact','month','poutcome']\n",
    "for col in categorical:\n",
    "     print('\\n{}\\n{}'.format(col, preview[col].value_counts()))"
   ]
  },
  {
   "cell_type": "code",
   "execution_count": 14,
   "metadata": {},
   "outputs": [],
   "source": [
    "def visualize_categorical(ax1, ax2, df, col, target):\n",
    "    count = df[col].value_counts().sort_values(ascending=False)\n",
    "    count.plot(kind='barh',ax=ax1)\n",
    "    ax1.invert_yaxis()\n",
    "    ax1.set_xlabel('Count')\n",
    "    \n",
    "    means = df.groupby(col)[target].mean()\n",
    "    means[count.index].plot(kind='barh', ax=ax2)\n",
    "    ax2.invert_yaxis()\n",
    "    ax2.axvline(x=0.1169848, linewidth=1, color='red', linestyle='--')\n",
    "    ax2.set_xlabel('Percetage Subscribed')\n",
    "\n",
    "# df['y'].sum()/len(df['y'])\n",
    "\n",
    "# Convert dependent variable into binary indicator\n",
    "data.loc[data.y == 'no', 'y'] = 0\n",
    "data.loc[data.y == 'yes', 'y'] = 1\n",
    "\n",
    "data[['y']] = data[['y']].astype(int)"
   ]
  },
  {
   "cell_type": "code",
   "execution_count": 15,
   "metadata": {},
   "outputs": [
    {
     "data": {
      "text/html": [
       "<div>\n",
       "<style>\n",
       "    .dataframe thead tr:only-child th {\n",
       "        text-align: right;\n",
       "    }\n",
       "\n",
       "    .dataframe thead th {\n",
       "        text-align: left;\n",
       "    }\n",
       "\n",
       "    .dataframe tbody tr th {\n",
       "        vertical-align: top;\n",
       "    }\n",
       "</style>\n",
       "<table border=\"1\" class=\"dataframe\">\n",
       "  <thead>\n",
       "    <tr style=\"text-align: right;\">\n",
       "      <th></th>\n",
       "      <th>age</th>\n",
       "      <th>job</th>\n",
       "      <th>marital</th>\n",
       "      <th>education</th>\n",
       "      <th>default</th>\n",
       "      <th>balance</th>\n",
       "      <th>housing</th>\n",
       "      <th>loan</th>\n",
       "      <th>contact</th>\n",
       "      <th>day</th>\n",
       "      <th>month</th>\n",
       "      <th>duration</th>\n",
       "      <th>campaign</th>\n",
       "      <th>pdays</th>\n",
       "      <th>previous</th>\n",
       "      <th>poutcome</th>\n",
       "      <th>y</th>\n",
       "    </tr>\n",
       "  </thead>\n",
       "  <tbody>\n",
       "    <tr>\n",
       "      <th>0</th>\n",
       "      <td>58</td>\n",
       "      <td>management</td>\n",
       "      <td>married</td>\n",
       "      <td>tertiary</td>\n",
       "      <td>no</td>\n",
       "      <td>2143</td>\n",
       "      <td>yes</td>\n",
       "      <td>no</td>\n",
       "      <td>unknown</td>\n",
       "      <td>5</td>\n",
       "      <td>may</td>\n",
       "      <td>261</td>\n",
       "      <td>1</td>\n",
       "      <td>-1</td>\n",
       "      <td>0</td>\n",
       "      <td>unknown</td>\n",
       "      <td>0</td>\n",
       "    </tr>\n",
       "    <tr>\n",
       "      <th>1</th>\n",
       "      <td>44</td>\n",
       "      <td>technician</td>\n",
       "      <td>single</td>\n",
       "      <td>secondary</td>\n",
       "      <td>no</td>\n",
       "      <td>29</td>\n",
       "      <td>yes</td>\n",
       "      <td>no</td>\n",
       "      <td>unknown</td>\n",
       "      <td>5</td>\n",
       "      <td>may</td>\n",
       "      <td>151</td>\n",
       "      <td>1</td>\n",
       "      <td>-1</td>\n",
       "      <td>0</td>\n",
       "      <td>unknown</td>\n",
       "      <td>0</td>\n",
       "    </tr>\n",
       "    <tr>\n",
       "      <th>2</th>\n",
       "      <td>33</td>\n",
       "      <td>entrepreneur</td>\n",
       "      <td>married</td>\n",
       "      <td>secondary</td>\n",
       "      <td>no</td>\n",
       "      <td>2</td>\n",
       "      <td>yes</td>\n",
       "      <td>yes</td>\n",
       "      <td>unknown</td>\n",
       "      <td>5</td>\n",
       "      <td>may</td>\n",
       "      <td>76</td>\n",
       "      <td>1</td>\n",
       "      <td>-1</td>\n",
       "      <td>0</td>\n",
       "      <td>unknown</td>\n",
       "      <td>0</td>\n",
       "    </tr>\n",
       "    <tr>\n",
       "      <th>3</th>\n",
       "      <td>47</td>\n",
       "      <td>blue-collar</td>\n",
       "      <td>married</td>\n",
       "      <td>unknown</td>\n",
       "      <td>no</td>\n",
       "      <td>1506</td>\n",
       "      <td>yes</td>\n",
       "      <td>no</td>\n",
       "      <td>unknown</td>\n",
       "      <td>5</td>\n",
       "      <td>may</td>\n",
       "      <td>92</td>\n",
       "      <td>1</td>\n",
       "      <td>-1</td>\n",
       "      <td>0</td>\n",
       "      <td>unknown</td>\n",
       "      <td>0</td>\n",
       "    </tr>\n",
       "    <tr>\n",
       "      <th>4</th>\n",
       "      <td>33</td>\n",
       "      <td>unknown</td>\n",
       "      <td>single</td>\n",
       "      <td>unknown</td>\n",
       "      <td>no</td>\n",
       "      <td>1</td>\n",
       "      <td>no</td>\n",
       "      <td>no</td>\n",
       "      <td>unknown</td>\n",
       "      <td>5</td>\n",
       "      <td>may</td>\n",
       "      <td>198</td>\n",
       "      <td>1</td>\n",
       "      <td>-1</td>\n",
       "      <td>0</td>\n",
       "      <td>unknown</td>\n",
       "      <td>0</td>\n",
       "    </tr>\n",
       "  </tbody>\n",
       "</table>\n",
       "</div>"
      ],
      "text/plain": [
       "   age           job  marital  education default  balance housing loan  \\\n",
       "0   58    management  married   tertiary      no     2143     yes   no   \n",
       "1   44    technician   single  secondary      no       29     yes   no   \n",
       "2   33  entrepreneur  married  secondary      no        2     yes  yes   \n",
       "3   47   blue-collar  married    unknown      no     1506     yes   no   \n",
       "4   33       unknown   single    unknown      no        1      no   no   \n",
       "\n",
       "   contact  day month  duration  campaign  pdays  previous poutcome  y  \n",
       "0  unknown    5   may       261         1     -1         0  unknown  0  \n",
       "1  unknown    5   may       151         1     -1         0  unknown  0  \n",
       "2  unknown    5   may        76         1     -1         0  unknown  0  \n",
       "3  unknown    5   may        92         1     -1         0  unknown  0  \n",
       "4  unknown    5   may       198         1     -1         0  unknown  0  "
      ]
     },
     "execution_count": 15,
     "metadata": {},
     "output_type": "execute_result"
    }
   ],
   "source": [
    "data.head()"
   ]
  },
  {
   "cell_type": "code",
   "execution_count": 17,
   "metadata": {},
   "outputs": [
    {
     "data": {
      "image/png": "[encoded data removed]",
      "text/plain": [
       "<matplotlib.figure.Figure at 0x1a1fcdd518>"
      ]
     },
     "metadata": {},
     "output_type": "display_data"
    },
    {
     "data": {
      "image/png": "[encoded data removed]",
      "text/plain": [
       "<matplotlib.figure.Figure at 0x1a1dade588>"
      ]
     },
     "metadata": {},
     "output_type": "display_data"
    },
    {
     "data": {
      "image/png": "[encoded data removed]",
      "text/plain": [
       "<matplotlib.figure.Figure at 0x1a1e5c9d30>"
      ]
     },
     "metadata": {},
     "output_type": "display_data"
    },
    {
     "data": {
      "image/png": "[encoded data removed]",
      "text/plain": [
       "<matplotlib.figure.Figure at 0x1a1d814ef0>"
      ]
     },
     "metadata": {},
     "output_type": "display_data"
    },
    {
     "data": {
      "image/png": "[encoded data removed]",
      "text/plain": [
       "<matplotlib.figure.Figure at 0x1a1f42cf60>"
      ]
     },
     "metadata": {},
     "output_type": "display_data"
    },
    {
     "data": {
      "image/png": "[encoded data removed]",
      "text/plain": [
       "<matplotlib.figure.Figure at 0x1a1d32b550>"
      ]
     },
     "metadata": {},
     "output_type": "display_data"
    },
    {
     "data": {
      "image/png": "[encoded data removed]",
      "text/plain": [
       "<matplotlib.figure.Figure at 0x1a1d9c96d8>"
      ]
     },
     "metadata": {},
     "output_type": "display_data"
    },
    {
     "data": {
      "image/png": "[encoded data removed]",
      "text/plain": [
       "<matplotlib.figure.Figure at 0x1a1dc25198>"
      ]
     },
     "metadata": {},
     "output_type": "display_data"
    },
    {
     "data": {
      "image/png": "[encoded data removed]",
      "text/plain": [
       "<matplotlib.figure.Figure at 0x1a1dd4f5f8>"
      ]
     },
     "metadata": {},
     "output_type": "display_data"
    }
   ],
   "source": [
    "target = 'y'\n",
    "train = ['age','balance','day','duration','campaign',\n",
    "         'pday','previous','job','marital','education',\n",
    "         'default','housing','loan','contact','month','poutcome']\n",
    "\n",
    "for col in categorical:\n",
    "    fig, axes = plt.subplots(1, 2, figsize=(10,3))\n",
    "    ax11 = plt.subplot(1,2,1)\n",
    "    ax12 = plt.subplot(1,2,2)\n",
    "    fig.suptitle('Feature: %s'%col, fontsize=10)\n",
    "    visualize_categorical(ax11,ax12,data,col,target)\n",
    "    plt.tight_layout()\n",
    "\n",
    "plt.show()"
   ]
  },
  {
   "cell_type": "code",
   "execution_count": 145,
   "metadata": {},
   "outputs": [
    {
     "data": {
      "text/plain": [
       "secondary    0.513194\n",
       "tertiary     0.294198\n",
       "primary      0.151534\n",
       "unknown      0.041074\n",
       "Name: education, dtype: float64"
      ]
     },
     "execution_count": 145,
     "metadata": {},
     "output_type": "execute_result"
    }
   ],
   "source": [
    "'''Impute'''\n",
    "# data['job'].value_counts()/len(data['job'])        # unknown: 0.006370\n",
    "data['education'].value_counts()/len(data['job'])    # unknown: 0.041074"
   ]
  },
  {
   "cell_type": "code",
   "execution_count": 20,
   "metadata": {},
   "outputs": [
    {
     "data": {
      "image/png": "[encoded data removed]",
      "text/plain": [
       "<matplotlib.figure.Figure at 0x1a1421ba90>"
      ]
     },
     "metadata": {},
     "output_type": "display_data"
    }
   ],
   "source": [
    "import seaborn as sns\n",
    "df.loc[df.y == 'no', 'y'] = 0\n",
    "df.loc[df.y == 'yes', 'y'] = 1\n",
    "num_var = df[['age', 'balance', 'day', 'duration', 'campaign', 'pdays', 'previous','y']]\n",
    "sns.heatmap(num_var.corr(), annot=True, cmap=\"Blues\")\n",
    "plt.show()\n",
    "#plt.matshow(num_var.corr())\n",
    "#plt.show()"
   ]
  },
  {
   "cell_type": "markdown",
   "metadata": {},
   "source": [
    "### Data Preprocessing\n",
    "\n",
    "- Convert categorical variable into dummy/indicator variables.\n",
    "- Set dependent variable to binary indicator, 0 for \"no\" and 1 for \"yes\".\n",
    "- Normalize numerical variables to obtain mean zero and variance one"
   ]
  },
  {
   "cell_type": "code",
   "execution_count": 18,
   "metadata": {},
   "outputs": [
    {
     "data": {
      "text/html": [
       "<div>\n",
       "<style>\n",
       "    .dataframe thead tr:only-child th {\n",
       "        text-align: right;\n",
       "    }\n",
       "\n",
       "    .dataframe thead th {\n",
       "        text-align: left;\n",
       "    }\n",
       "\n",
       "    .dataframe tbody tr th {\n",
       "        vertical-align: top;\n",
       "    }\n",
       "</style>\n",
       "<table border=\"1\" class=\"dataframe\">\n",
       "  <thead>\n",
       "    <tr style=\"text-align: right;\">\n",
       "      <th></th>\n",
       "      <th>age</th>\n",
       "      <th>balance</th>\n",
       "      <th>day</th>\n",
       "      <th>duration</th>\n",
       "      <th>campaign</th>\n",
       "      <th>pday</th>\n",
       "      <th>previous</th>\n",
       "      <th>y</th>\n",
       "      <th>job_admin.</th>\n",
       "      <th>job_blue-collar</th>\n",
       "      <th>...</th>\n",
       "      <th>month_jun</th>\n",
       "      <th>month_mar</th>\n",
       "      <th>month_may</th>\n",
       "      <th>month_nov</th>\n",
       "      <th>month_oct</th>\n",
       "      <th>month_sep</th>\n",
       "      <th>poutcome_failure</th>\n",
       "      <th>poutcome_other</th>\n",
       "      <th>poutcome_success</th>\n",
       "      <th>poutcome_unknown</th>\n",
       "    </tr>\n",
       "  </thead>\n",
       "  <tbody>\n",
       "    <tr>\n",
       "      <th>0</th>\n",
       "      <td>1.606965</td>\n",
       "      <td>0.256419</td>\n",
       "      <td>-1.298476</td>\n",
       "      <td>0.011016</td>\n",
       "      <td>-0.569351</td>\n",
       "      <td>-0.411453</td>\n",
       "      <td>-0.25194</td>\n",
       "      <td>0</td>\n",
       "      <td>0</td>\n",
       "      <td>0</td>\n",
       "      <td>...</td>\n",
       "      <td>0</td>\n",
       "      <td>0</td>\n",
       "      <td>1</td>\n",
       "      <td>0</td>\n",
       "      <td>0</td>\n",
       "      <td>0</td>\n",
       "      <td>0</td>\n",
       "      <td>0</td>\n",
       "      <td>0</td>\n",
       "      <td>1</td>\n",
       "    </tr>\n",
       "    <tr>\n",
       "      <th>1</th>\n",
       "      <td>0.288529</td>\n",
       "      <td>-0.437895</td>\n",
       "      <td>-1.298476</td>\n",
       "      <td>-0.416127</td>\n",
       "      <td>-0.569351</td>\n",
       "      <td>-0.411453</td>\n",
       "      <td>-0.25194</td>\n",
       "      <td>0</td>\n",
       "      <td>0</td>\n",
       "      <td>0</td>\n",
       "      <td>...</td>\n",
       "      <td>0</td>\n",
       "      <td>0</td>\n",
       "      <td>1</td>\n",
       "      <td>0</td>\n",
       "      <td>0</td>\n",
       "      <td>0</td>\n",
       "      <td>0</td>\n",
       "      <td>0</td>\n",
       "      <td>0</td>\n",
       "      <td>1</td>\n",
       "    </tr>\n",
       "    <tr>\n",
       "      <th>2</th>\n",
       "      <td>-0.747384</td>\n",
       "      <td>-0.446762</td>\n",
       "      <td>-1.298476</td>\n",
       "      <td>-0.707361</td>\n",
       "      <td>-0.569351</td>\n",
       "      <td>-0.411453</td>\n",
       "      <td>-0.25194</td>\n",
       "      <td>0</td>\n",
       "      <td>0</td>\n",
       "      <td>0</td>\n",
       "      <td>...</td>\n",
       "      <td>0</td>\n",
       "      <td>0</td>\n",
       "      <td>1</td>\n",
       "      <td>0</td>\n",
       "      <td>0</td>\n",
       "      <td>0</td>\n",
       "      <td>0</td>\n",
       "      <td>0</td>\n",
       "      <td>0</td>\n",
       "      <td>1</td>\n",
       "    </tr>\n",
       "    <tr>\n",
       "      <th>3</th>\n",
       "      <td>0.571051</td>\n",
       "      <td>0.047205</td>\n",
       "      <td>-1.298476</td>\n",
       "      <td>-0.645231</td>\n",
       "      <td>-0.569351</td>\n",
       "      <td>-0.411453</td>\n",
       "      <td>-0.25194</td>\n",
       "      <td>0</td>\n",
       "      <td>0</td>\n",
       "      <td>1</td>\n",
       "      <td>...</td>\n",
       "      <td>0</td>\n",
       "      <td>0</td>\n",
       "      <td>1</td>\n",
       "      <td>0</td>\n",
       "      <td>0</td>\n",
       "      <td>0</td>\n",
       "      <td>0</td>\n",
       "      <td>0</td>\n",
       "      <td>0</td>\n",
       "      <td>1</td>\n",
       "    </tr>\n",
       "    <tr>\n",
       "      <th>4</th>\n",
       "      <td>-0.747384</td>\n",
       "      <td>-0.447091</td>\n",
       "      <td>-1.298476</td>\n",
       "      <td>-0.233620</td>\n",
       "      <td>-0.569351</td>\n",
       "      <td>-0.411453</td>\n",
       "      <td>-0.25194</td>\n",
       "      <td>0</td>\n",
       "      <td>0</td>\n",
       "      <td>0</td>\n",
       "      <td>...</td>\n",
       "      <td>0</td>\n",
       "      <td>0</td>\n",
       "      <td>1</td>\n",
       "      <td>0</td>\n",
       "      <td>0</td>\n",
       "      <td>0</td>\n",
       "      <td>0</td>\n",
       "      <td>0</td>\n",
       "      <td>0</td>\n",
       "      <td>1</td>\n",
       "    </tr>\n",
       "  </tbody>\n",
       "</table>\n",
       "<p>5 rows × 52 columns</p>\n",
       "</div>"
      ],
      "text/plain": [
       "        age   balance       day  duration  campaign      pday  previous  y  \\\n",
       "0  1.606965  0.256419 -1.298476  0.011016 -0.569351 -0.411453  -0.25194  0   \n",
       "1  0.288529 -0.437895 -1.298476 -0.416127 -0.569351 -0.411453  -0.25194  0   \n",
       "2 -0.747384 -0.446762 -1.298476 -0.707361 -0.569351 -0.411453  -0.25194  0   \n",
       "3  0.571051  0.047205 -1.298476 -0.645231 -0.569351 -0.411453  -0.25194  0   \n",
       "4 -0.747384 -0.447091 -1.298476 -0.233620 -0.569351 -0.411453  -0.25194  0   \n",
       "\n",
       "   job_admin.  job_blue-collar        ...         month_jun  month_mar  \\\n",
       "0           0                0        ...                 0          0   \n",
       "1           0                0        ...                 0          0   \n",
       "2           0                0        ...                 0          0   \n",
       "3           0                1        ...                 0          0   \n",
       "4           0                0        ...                 0          0   \n",
       "\n",
       "   month_may  month_nov  month_oct  month_sep  poutcome_failure  \\\n",
       "0          1          0          0          0                 0   \n",
       "1          1          0          0          0                 0   \n",
       "2          1          0          0          0                 0   \n",
       "3          1          0          0          0                 0   \n",
       "4          1          0          0          0                 0   \n",
       "\n",
       "   poutcome_other  poutcome_success  poutcome_unknown  \n",
       "0               0                 0                 1  \n",
       "1               0                 0                 1  \n",
       "2               0                 0                 1  \n",
       "3               0                 0                 1  \n",
       "4               0                 0                 1  \n",
       "\n",
       "[5 rows x 52 columns]"
      ]
     },
     "execution_count": 18,
     "metadata": {},
     "output_type": "execute_result"
    }
   ],
   "source": [
    "# Convert categorical variable into dummy/indicator variables\n",
    "df = pd.get_dummies(data, columns=['job','marital','education','default','housing',\n",
    "              'loan','contact','month','poutcome'])\n",
    "\n",
    "# Standardiza numerical variables\n",
    "scaler = StandardScaler()\n",
    "num = df.iloc[:,0:7]\n",
    "num = scaler.fit_transform(num)\n",
    "num = pd.DataFrame(num)\n",
    "num.columns = ['age','balance','day','duration','campaign','pday','previous']\n",
    "df = pd.concat([num, df.iloc[:,7:]], axis=1)\n",
    "df.head()\n",
    "\n",
    "# before # of variable: 17\n",
    "# now # of variable: 51"
   ]
  },
  {
   "cell_type": "markdown",
   "metadata": {},
   "source": [
    "### Split Training and Testing data\n",
    "Because of imbalanced data, *stratify* makes a split so taht the proportion of values in the sample produced will be the same as the proportion of vlalues provided to parameter *stratify*.\n",
    "\n",
    "Let's now split data into a train set and a test set."
   ]
  },
  {
   "cell_type": "code",
   "execution_count": 19,
   "metadata": {
    "collapsed": true
   },
   "outputs": [],
   "source": [
    "# Split training and test set\n",
    "X_train, X_test, y_train, y_test = train_test_split(df.drop('y', axis=1).values, df['y'].values, \n",
    "                                                    stratify=df['y'].values, random_state=0)\n",
    "\n",
    "# percent of \"yes\" in training set: y_train.sum()/len(y_train) --> 0.117\n",
    "# precent of \"no\" in testing set: y_test.sum()/len(y_test)     --> 0.117"
   ]
  },
  {
   "cell_type": "markdown",
   "metadata": {},
   "source": [
    "### Imbalanced Data\n",
    "http://contrib.scikit-learn.org/imbalanced-learn/stable/index.html"
   ]
  },
  {
   "cell_type": "code",
   "execution_count": 65,
   "metadata": {},
   "outputs": [
    {
     "name": "stdout",
     "output_type": "stream",
     "text": [
      "[29941  3967]\n"
     ]
    }
   ],
   "source": [
    "print(np.bincount(y_train))   \n",
    "# original data:\n",
    "# no 29941\n",
    "# yes 3967"
   ]
  },
  {
   "cell_type": "code",
   "execution_count": 66,
   "metadata": {},
   "outputs": [
    {
     "name": "stdout",
     "output_type": "stream",
     "text": [
      "[3967 3967]\n"
     ]
    }
   ],
   "source": [
    "rus = RandomUnderSampler(replacement=False)\n",
    "X_train_subsample, y_train_subsample = rus.fit_sample(X_train, y_train)\n",
    "print(np.bincount(y_train_subsample))"
   ]
  },
  {
   "cell_type": "code",
   "execution_count": 67,
   "metadata": {},
   "outputs": [
    {
     "name": "stdout",
     "output_type": "stream",
     "text": [
      "[29941 29941]\n"
     ]
    }
   ],
   "source": [
    "smote = SMOTE()\n",
    "X_train_smote, y_train_smote = smote.fit_sample(X_train, y_train)\n",
    "print(np.bincount(y_train_smote))"
   ]
  },
  {
   "cell_type": "markdown",
   "metadata": {
    "collapsed": true
   },
   "source": [
    "### PCA"
   ]
  },
  {
   "cell_type": "code",
   "execution_count": 47,
   "metadata": {},
   "outputs": [
    {
     "data": {
      "image/png": "[encoded data removed]",
      "text/plain": [
       "<matplotlib.figure.Figure at 0x1a1d42e518>"
      ]
     },
     "metadata": {},
     "output_type": "display_data"
    },
    {
     "data": {
      "text/plain": [
       "0.99155316790209014"
      ]
     },
     "execution_count": 47,
     "metadata": {},
     "output_type": "execute_result"
    }
   ],
   "source": [
    "'''PCA with Imbalanced Data'''\n",
    "pca = PCA()\n",
    "X_train_pca = pca.fit_transform(X_train)\n",
    "fig, (ax11, ax12) = plt.subplots(1, 2, figsize=(10,3))\n",
    "ax11.plot(pca.explained_variance_ratio_)\n",
    "ax11.title.set_text('Percent of Explained Variance')\n",
    "cum_explained_var_ratio = []\n",
    "for i in range(len(pca.explained_variance_ratio_)):\n",
    "    if i == 0:\n",
    "        cum_explained_var_ratio.append(pca.explained_variance_ratio_[i])\n",
    "    else:\n",
    "        cum_explained_var_ratio.append(cum_explained_var_ratio[i-1] + pca.explained_variance_ratio_[i])\n",
    "ax12.plot(cum_explained_var_ratio)\n",
    "ax12.title.set_text('Cumulative Percentage of Explained Variance')\n",
    "plt.show()\n",
    "# 17 variables -> 90%\n",
    "# 24 variables -> 95%\n",
    "# 35 variables -> 99%"
   ]
  },
  {
   "cell_type": "code",
   "execution_count": 60,
   "metadata": {},
   "outputs": [
    {
     "data": {
      "image/png": "[encoded data removed]",
      "text/plain": [
       "<matplotlib.figure.Figure at 0x1a1d4f0358>"
      ]
     },
     "metadata": {},
     "output_type": "display_data"
    },
    {
     "data": {
      "text/plain": [
       "[0.15493135155832446,\n",
       " 0.29693125614022875,\n",
       " 0.41537656224682906,\n",
       " 0.50523530100569869,\n",
       " 0.58676894316235451,\n",
       " 0.63926003059702596,\n",
       " 0.69045181337320194,\n",
       " 0.72995660007560403,\n",
       " 0.76465226486667448,\n",
       " 0.79115227196064253]"
      ]
     },
     "execution_count": 60,
     "metadata": {},
     "output_type": "execute_result"
    }
   ],
   "source": [
    "'''PCA with Balanced Data: RandomUnderSampler'''\n",
    "X_train_pca = pca.fit_transform(X_train_subsample)\n",
    "fig, (ax11, ax12) = plt.subplots(1, 2, figsize=(10,3))\n",
    "ax11.plot(pca.explained_variance_ratio_)\n",
    "ax11.title.set_text('Percent of Explained Variance')\n",
    "cum_explained_var_ratio = []\n",
    "for i in range(len(pca.explained_variance_ratio_)):\n",
    "    if i == 0:\n",
    "        cum_explained_var_ratio.append(pca.explained_variance_ratio_[i])\n",
    "    else:\n",
    "        cum_explained_var_ratio.append(cum_explained_var_ratio[i-1] + pca.explained_variance_ratio_[i])\n",
    "ax12.plot(cum_explained_var_ratio)\n",
    "ax12.title.set_text('Cumulative Percentage of Explained Variance')\n",
    "plt.show()\n",
    "cum_explained_var_ratio[:10]\n",
    "# 18 -> 90%\n",
    "# 25 -> 95%\n",
    "# 36 -> 99%"
   ]
  },
  {
   "cell_type": "code",
   "execution_count": 61,
   "metadata": {},
   "outputs": [
    {
     "data": {
      "image/png": "[encoded data removed]",
      "text/plain": [
       "<matplotlib.figure.Figure at 0x1a1d4f0780>"
      ]
     },
     "metadata": {},
     "output_type": "display_data"
    },
    {
     "data": {
      "text/plain": [
       "[0.15685123881337407,\n",
       " 0.29930515368053168,\n",
       " 0.41788286756894505,\n",
       " 0.5036384096759734,\n",
       " 0.58553665420582879,\n",
       " 0.63993786210681558,\n",
       " 0.69388779132040757,\n",
       " 0.74160835676828563,\n",
       " 0.777232914167721,\n",
       " 0.80327581137094128]"
      ]
     },
     "execution_count": 61,
     "metadata": {},
     "output_type": "execute_result"
    }
   ],
   "source": [
    "'''PCA with Balanced Data: RandomUnderSampler'''\n",
    "X_train_pca = pca.fit_transform(X_train_smote)\n",
    "fig, (ax11, ax12) = plt.subplots(1, 2, figsize=(10,3))\n",
    "ax11.plot(pca.explained_variance_ratio_)\n",
    "ax11.title.set_text('Percent of Explained Variance')\n",
    "cum_explained_var_ratio = []\n",
    "for i in range(len(pca.explained_variance_ratio_)):\n",
    "    if i == 0:\n",
    "        cum_explained_var_ratio.append(pca.explained_variance_ratio_[i])\n",
    "    else:\n",
    "        cum_explained_var_ratio.append(cum_explained_var_ratio[i-1] + pca.explained_variance_ratio_[i])\n",
    "ax12.plot(cum_explained_var_ratio)\n",
    "ax12.title.set_text('Cumulative Percentage of Explained Variance')\n",
    "plt.show()\n",
    "cum_explained_var_ratio[:10]"
   ]
  },
  {
   "cell_type": "code",
   "execution_count": 64,
   "metadata": {},
   "outputs": [
    {
     "name": "stdout",
     "output_type": "stream",
     "text": [
      "(59882, 51)\n",
      "[29941 29941]\n",
      "[29941  3967]\n"
     ]
    }
   ],
   "source": [
    "print(X_train_smote.shape)\n",
    "print(np.bincount(y_train_smote))\n",
    "print(np.bincount(y_train))"
   ]
  },
  {
   "cell_type": "markdown",
   "metadata": {},
   "source": [
    "### Ensemble Methods"
   ]
  },
  {
   "cell_type": "code",
   "execution_count": 26,
   "metadata": {},
   "outputs": [
    {
     "data": {
      "text/html": [
       "<div>\n",
       "<style>\n",
       "    .dataframe thead tr:only-child th {\n",
       "        text-align: right;\n",
       "    }\n",
       "\n",
       "    .dataframe thead th {\n",
       "        text-align: left;\n",
       "    }\n",
       "\n",
       "    .dataframe tbody tr th {\n",
       "        vertical-align: top;\n",
       "    }\n",
       "</style>\n",
       "<table border=\"1\" class=\"dataframe\">\n",
       "  <thead>\n",
       "    <tr style=\"text-align: right;\">\n",
       "      <th></th>\n",
       "      <th>age</th>\n",
       "      <th>job</th>\n",
       "      <th>marital</th>\n",
       "      <th>education</th>\n",
       "      <th>default</th>\n",
       "      <th>balance</th>\n",
       "      <th>housing</th>\n",
       "      <th>loan</th>\n",
       "      <th>contact</th>\n",
       "      <th>day</th>\n",
       "      <th>month</th>\n",
       "      <th>duration</th>\n",
       "      <th>campaign</th>\n",
       "      <th>pdays</th>\n",
       "      <th>previous</th>\n",
       "      <th>poutcome</th>\n",
       "      <th>y</th>\n",
       "    </tr>\n",
       "  </thead>\n",
       "  <tbody>\n",
       "    <tr>\n",
       "      <th>0</th>\n",
       "      <td>58</td>\n",
       "      <td>management</td>\n",
       "      <td>married</td>\n",
       "      <td>tertiary</td>\n",
       "      <td>no</td>\n",
       "      <td>2143</td>\n",
       "      <td>yes</td>\n",
       "      <td>no</td>\n",
       "      <td>unknown</td>\n",
       "      <td>5</td>\n",
       "      <td>may</td>\n",
       "      <td>261</td>\n",
       "      <td>1</td>\n",
       "      <td>-1</td>\n",
       "      <td>0</td>\n",
       "      <td>unknown</td>\n",
       "      <td>0</td>\n",
       "    </tr>\n",
       "    <tr>\n",
       "      <th>1</th>\n",
       "      <td>44</td>\n",
       "      <td>technician</td>\n",
       "      <td>single</td>\n",
       "      <td>secondary</td>\n",
       "      <td>no</td>\n",
       "      <td>29</td>\n",
       "      <td>yes</td>\n",
       "      <td>no</td>\n",
       "      <td>unknown</td>\n",
       "      <td>5</td>\n",
       "      <td>may</td>\n",
       "      <td>151</td>\n",
       "      <td>1</td>\n",
       "      <td>-1</td>\n",
       "      <td>0</td>\n",
       "      <td>unknown</td>\n",
       "      <td>0</td>\n",
       "    </tr>\n",
       "    <tr>\n",
       "      <th>2</th>\n",
       "      <td>33</td>\n",
       "      <td>entrepreneur</td>\n",
       "      <td>married</td>\n",
       "      <td>secondary</td>\n",
       "      <td>no</td>\n",
       "      <td>2</td>\n",
       "      <td>yes</td>\n",
       "      <td>yes</td>\n",
       "      <td>unknown</td>\n",
       "      <td>5</td>\n",
       "      <td>may</td>\n",
       "      <td>76</td>\n",
       "      <td>1</td>\n",
       "      <td>-1</td>\n",
       "      <td>0</td>\n",
       "      <td>unknown</td>\n",
       "      <td>0</td>\n",
       "    </tr>\n",
       "    <tr>\n",
       "      <th>3</th>\n",
       "      <td>47</td>\n",
       "      <td>blue-collar</td>\n",
       "      <td>married</td>\n",
       "      <td>unknown</td>\n",
       "      <td>no</td>\n",
       "      <td>1506</td>\n",
       "      <td>yes</td>\n",
       "      <td>no</td>\n",
       "      <td>unknown</td>\n",
       "      <td>5</td>\n",
       "      <td>may</td>\n",
       "      <td>92</td>\n",
       "      <td>1</td>\n",
       "      <td>-1</td>\n",
       "      <td>0</td>\n",
       "      <td>unknown</td>\n",
       "      <td>0</td>\n",
       "    </tr>\n",
       "    <tr>\n",
       "      <th>4</th>\n",
       "      <td>33</td>\n",
       "      <td>unknown</td>\n",
       "      <td>single</td>\n",
       "      <td>unknown</td>\n",
       "      <td>no</td>\n",
       "      <td>1</td>\n",
       "      <td>no</td>\n",
       "      <td>no</td>\n",
       "      <td>unknown</td>\n",
       "      <td>5</td>\n",
       "      <td>may</td>\n",
       "      <td>198</td>\n",
       "      <td>1</td>\n",
       "      <td>-1</td>\n",
       "      <td>0</td>\n",
       "      <td>unknown</td>\n",
       "      <td>0</td>\n",
       "    </tr>\n",
       "  </tbody>\n",
       "</table>\n",
       "</div>"
      ],
      "text/plain": [
       "   age           job  marital  education default  balance housing loan  \\\n",
       "0   58    management  married   tertiary      no     2143     yes   no   \n",
       "1   44    technician   single  secondary      no       29     yes   no   \n",
       "2   33  entrepreneur  married  secondary      no        2     yes  yes   \n",
       "3   47   blue-collar  married    unknown      no     1506     yes   no   \n",
       "4   33       unknown   single    unknown      no        1      no   no   \n",
       "\n",
       "   contact  day month  duration  campaign  pdays  previous poutcome  y  \n",
       "0  unknown    5   may       261         1     -1         0  unknown  0  \n",
       "1  unknown    5   may       151         1     -1         0  unknown  0  \n",
       "2  unknown    5   may        76         1     -1         0  unknown  0  \n",
       "3  unknown    5   may        92         1     -1         0  unknown  0  \n",
       "4  unknown    5   may       198         1     -1         0  unknown  0  "
      ]
     },
     "execution_count": 26,
     "metadata": {},
     "output_type": "execute_result"
    }
   ],
   "source": [
    "data.head()"
   ]
  },
  {
   "cell_type": "code",
   "execution_count": null,
   "metadata": {
    "collapsed": true
   },
   "outputs": [],
   "source": []
  }
 ],
 "metadata": {
  "kernelspec": {
   "display_name": "Python 3",
   "language": "python",
   "name": "python3"
  },
  "language_info": {
   "codemirror_mode": {
    "name": "ipython",
    "version": 3
   },
   "file_extension": ".py",
   "mimetype": "text/x-python",
   "name": "python",
   "nbconvert_exporter": "python",
   "pygments_lexer": "ipython3",
   "version": "3.6.1"
  }
 },
 "nbformat": 4,
 "nbformat_minor": 2
}
