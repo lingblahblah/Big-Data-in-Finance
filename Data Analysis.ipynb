{
 "cells": [
  {
   "cell_type": "code",
   "execution_count": 190,
   "metadata": {
    "collapsed": true
   },
   "outputs": [],
   "source": [
    "import os\n",
    "import numpy as np\n",
    "import pandas as pd\n",
    "import matplotlib.pyplot as plt\n",
    "import seaborn as sns\n",
    "import fancyimpute\n",
    "\n",
    "from sklearn.metrics import roc_curve\n",
    "from sklearn.preprocessing import StandardScaler, MinMaxScaler, PolynomialFeatures\n",
    "from sklearn.decomposition import PCA\n",
    "from sklearn.feature_selection import SelectKBest, mutual_info_classif, f_classif\n",
    "from sklearn.model_selection import train_test_split, cross_val_score\n",
    "from sklearn.ensemble import RandomForestClassifier\n",
    "\n",
    "from imblearn.pipeline import make_pipeline as make_imb_pipeline\n",
    "from imblearn.under_sampling import RandomUnderSampler\n",
    "from imblearn.over_sampling import  RandomOverSampler, SMOTE\n",
    "from imblearn.ensemble import EasyEnsemble"
   ]
  },
  {
   "cell_type": "code",
   "execution_count": 4,
   "metadata": {
    "collapsed": true
   },
   "outputs": [],
   "source": [
    "data = pd.read_excel('bank/bank-data.xlsx', '1')"
   ]
  },
  {
   "cell_type": "markdown",
   "metadata": {},
   "source": [
    "### Quick Look at Data\n",
    "\n",
    "In this dataset, there are total 45211 observations, with 39922 \"no\" response and 5289 \"yes\" response, which means it is an imbalance dataset. Imbalanced data refers to a problem with classification problems where the classes are not represented equally. The ratio of Class *no* to Class *yes* is more than 70:30.\n",
    "\n",
    "Accurancy is not the metric to use when working with an imbalanced dataset. Instead, we can use confusion matrix, precison, recall, F1 score, ROC curves.\n",
    "- **Confusion Matrix**: a table showing correct predictions (the diagonal) and the types of incorrect predictions made\n",
    "- **Precision**: a measure of a classifiers exactness $$\\frac{True Positive}{True Positive + False Postive}$$\n",
    "- **Recall**: a measure of classifiers completeness\n",
    "$$\\frac{True Positive}{True Positive + False Negative}$$\n",
    "- **F1 Score**: a weighted average of precision and recall\n",
    "$$F = 2\\cdot \\frac{precision\\cdot recall}{precision+recall}$$\n",
    "\n",
    "Also, we need to sampling our dataset so that we will have even-up classes. \n",
    "- Over-sampling:\n",
    "- Under-sampling:\n",
    "\n",
    "Besides, generating synthetic samples to randomly sample the attributes from instances in the minority class.\n"
   ]
  },
  {
   "cell_type": "code",
   "execution_count": 5,
   "metadata": {},
   "outputs": [
    {
     "data": {
      "text/plain": [
       "no     39922\n",
       "yes     5289\n",
       "Name: y, dtype: int64"
      ]
     },
     "execution_count": 5,
     "metadata": {},
     "output_type": "execute_result"
    }
   ],
   "source": [
    "data['y'].value_counts()"
   ]
  },
  {
   "cell_type": "markdown",
   "metadata": {},
   "source": [
    "### Exploratory Data Analysis\n",
    "\n",
    "Before doing any exploratory data analysis, let's look into data and try to understand it.\n",
    "\n",
    "- Categorical varibales: job, marital, education, default, housing, loan, contact, month, poutcome\n",
    "- Numerical variables: age, balance, day, duration, campaign, pdays, previous"
   ]
  },
  {
   "cell_type": "code",
   "execution_count": 6,
   "metadata": {},
   "outputs": [
    {
     "data": {
      "text/html": [
       "<div>\n",
       "<style>\n",
       "    .dataframe thead tr:only-child th {\n",
       "        text-align: right;\n",
       "    }\n",
       "\n",
       "    .dataframe thead th {\n",
       "        text-align: left;\n",
       "    }\n",
       "\n",
       "    .dataframe tbody tr th {\n",
       "        vertical-align: top;\n",
       "    }\n",
       "</style>\n",
       "<table border=\"1\" class=\"dataframe\">\n",
       "  <thead>\n",
       "    <tr style=\"text-align: right;\">\n",
       "      <th></th>\n",
       "      <th>age</th>\n",
       "      <th>job</th>\n",
       "      <th>marital</th>\n",
       "      <th>education</th>\n",
       "      <th>default</th>\n",
       "      <th>balance</th>\n",
       "      <th>housing</th>\n",
       "      <th>loan</th>\n",
       "      <th>contact</th>\n",
       "      <th>day</th>\n",
       "      <th>month</th>\n",
       "      <th>duration</th>\n",
       "      <th>campaign</th>\n",
       "      <th>pdays</th>\n",
       "      <th>previous</th>\n",
       "      <th>poutcome</th>\n",
       "    </tr>\n",
       "  </thead>\n",
       "  <tbody>\n",
       "    <tr>\n",
       "      <th>0</th>\n",
       "      <td>58</td>\n",
       "      <td>management</td>\n",
       "      <td>married</td>\n",
       "      <td>tertiary</td>\n",
       "      <td>no</td>\n",
       "      <td>2143</td>\n",
       "      <td>yes</td>\n",
       "      <td>no</td>\n",
       "      <td>unknown</td>\n",
       "      <td>5</td>\n",
       "      <td>may</td>\n",
       "      <td>261</td>\n",
       "      <td>1</td>\n",
       "      <td>-1</td>\n",
       "      <td>0</td>\n",
       "      <td>unknown</td>\n",
       "    </tr>\n",
       "    <tr>\n",
       "      <th>1</th>\n",
       "      <td>44</td>\n",
       "      <td>technician</td>\n",
       "      <td>single</td>\n",
       "      <td>secondary</td>\n",
       "      <td>no</td>\n",
       "      <td>29</td>\n",
       "      <td>yes</td>\n",
       "      <td>no</td>\n",
       "      <td>unknown</td>\n",
       "      <td>5</td>\n",
       "      <td>may</td>\n",
       "      <td>151</td>\n",
       "      <td>1</td>\n",
       "      <td>-1</td>\n",
       "      <td>0</td>\n",
       "      <td>unknown</td>\n",
       "    </tr>\n",
       "    <tr>\n",
       "      <th>2</th>\n",
       "      <td>33</td>\n",
       "      <td>entrepreneur</td>\n",
       "      <td>married</td>\n",
       "      <td>secondary</td>\n",
       "      <td>no</td>\n",
       "      <td>2</td>\n",
       "      <td>yes</td>\n",
       "      <td>yes</td>\n",
       "      <td>unknown</td>\n",
       "      <td>5</td>\n",
       "      <td>may</td>\n",
       "      <td>76</td>\n",
       "      <td>1</td>\n",
       "      <td>-1</td>\n",
       "      <td>0</td>\n",
       "      <td>unknown</td>\n",
       "    </tr>\n",
       "    <tr>\n",
       "      <th>3</th>\n",
       "      <td>47</td>\n",
       "      <td>blue-collar</td>\n",
       "      <td>married</td>\n",
       "      <td>unknown</td>\n",
       "      <td>no</td>\n",
       "      <td>1506</td>\n",
       "      <td>yes</td>\n",
       "      <td>no</td>\n",
       "      <td>unknown</td>\n",
       "      <td>5</td>\n",
       "      <td>may</td>\n",
       "      <td>92</td>\n",
       "      <td>1</td>\n",
       "      <td>-1</td>\n",
       "      <td>0</td>\n",
       "      <td>unknown</td>\n",
       "    </tr>\n",
       "    <tr>\n",
       "      <th>4</th>\n",
       "      <td>33</td>\n",
       "      <td>unknown</td>\n",
       "      <td>single</td>\n",
       "      <td>unknown</td>\n",
       "      <td>no</td>\n",
       "      <td>1</td>\n",
       "      <td>no</td>\n",
       "      <td>no</td>\n",
       "      <td>unknown</td>\n",
       "      <td>5</td>\n",
       "      <td>may</td>\n",
       "      <td>198</td>\n",
       "      <td>1</td>\n",
       "      <td>-1</td>\n",
       "      <td>0</td>\n",
       "      <td>unknown</td>\n",
       "    </tr>\n",
       "  </tbody>\n",
       "</table>\n",
       "</div>"
      ],
      "text/plain": [
       "   age           job  marital  education default  balance housing loan  \\\n",
       "0   58    management  married   tertiary      no     2143     yes   no   \n",
       "1   44    technician   single  secondary      no       29     yes   no   \n",
       "2   33  entrepreneur  married  secondary      no        2     yes  yes   \n",
       "3   47   blue-collar  married    unknown      no     1506     yes   no   \n",
       "4   33       unknown   single    unknown      no        1      no   no   \n",
       "\n",
       "   contact  day month  duration  campaign  pdays  previous poutcome  \n",
       "0  unknown    5   may       261         1     -1         0  unknown  \n",
       "1  unknown    5   may       151         1     -1         0  unknown  \n",
       "2  unknown    5   may        76         1     -1         0  unknown  \n",
       "3  unknown    5   may        92         1     -1         0  unknown  \n",
       "4  unknown    5   may       198         1     -1         0  unknown  "
      ]
     },
     "execution_count": 6,
     "metadata": {},
     "output_type": "execute_result"
    }
   ],
   "source": [
    "preview = pd.DataFrame(data, columns=data.columns[:-1])\n",
    "preview.head()"
   ]
  },
  {
   "cell_type": "code",
   "execution_count": 7,
   "metadata": {},
   "outputs": [
    {
     "name": "stdout",
     "output_type": "stream",
     "text": [
      "\n",
      "job\n",
      "blue-collar      9732\n",
      "management       9458\n",
      "technician       7597\n",
      "admin.           5171\n",
      "services         4154\n",
      "retired          2264\n",
      "self-employed    1579\n",
      "entrepreneur     1487\n",
      "unemployed       1303\n",
      "housemaid        1240\n",
      "student           938\n",
      "unknown           288\n",
      "Name: job, dtype: int64\n",
      "\n",
      "marital\n",
      "married     27214\n",
      "single      12790\n",
      "divorced     5207\n",
      "Name: marital, dtype: int64\n",
      "\n",
      "education\n",
      "secondary    23202\n",
      "tertiary     13301\n",
      "primary       6851\n",
      "unknown       1857\n",
      "Name: education, dtype: int64\n",
      "\n",
      "default\n",
      "no     44396\n",
      "yes      815\n",
      "Name: default, dtype: int64\n",
      "\n",
      "housing\n",
      "yes    25130\n",
      "no     20081\n",
      "Name: housing, dtype: int64\n",
      "\n",
      "loan\n",
      "no     37967\n",
      "yes     7244\n",
      "Name: loan, dtype: int64\n",
      "\n",
      "contact\n",
      "cellular     29285\n",
      "unknown      13020\n",
      "telephone     2906\n",
      "Name: contact, dtype: int64\n",
      "\n",
      "month\n",
      "may    13766\n",
      "jul     6895\n",
      "aug     6247\n",
      "jun     5341\n",
      "nov     3970\n",
      "apr     2932\n",
      "feb     2649\n",
      "jan     1403\n",
      "oct      738\n",
      "sep      579\n",
      "mar      477\n",
      "dec      214\n",
      "Name: month, dtype: int64\n",
      "\n",
      "poutcome\n",
      "unknown    36959\n",
      "failure     4901\n",
      "other       1840\n",
      "success     1511\n",
      "Name: poutcome, dtype: int64\n"
     ]
    }
   ],
   "source": [
    "numerical = ['age','balance','day','duration','campaign','pday','previous']\n",
    "categorical = ['job','marital','education','default','housing',\n",
    "              'loan','contact','month','poutcome']\n",
    "for col in categorical:\n",
    "     print('\\n{}\\n{}'.format(col, preview[col].value_counts()))"
   ]
  },
  {
   "cell_type": "code",
   "execution_count": 8,
   "metadata": {
    "collapsed": true
   },
   "outputs": [],
   "source": [
    "def visualize_categorical(ax1, ax2, df, col, target):\n",
    "    count = df[col].value_counts().sort_values(ascending=False)\n",
    "    count.plot(kind='barh',ax=ax1)\n",
    "    ax1.invert_yaxis()\n",
    "    ax1.set_xlabel('Count')\n",
    "    \n",
    "    means = df.groupby(col)[target].mean()\n",
    "    means[count.index].plot(kind='barh', ax=ax2)\n",
    "    ax2.invert_yaxis()\n",
    "    ax2.axvline(x=0.1169848, linewidth=1, color='red', linestyle='--')\n",
    "    ax2.set_xlabel('Percetage Subscribed')\n",
    "\n",
    "# Convert dependent variable into binary indicator\n",
    "data.loc[data.y == 'no', 'y'] = 0\n",
    "data.loc[data.y == 'yes', 'y'] = 1\n",
    "\n",
    "data[['y']] = data[['y']].astype(int)"
   ]
  },
  {
   "cell_type": "code",
   "execution_count": 9,
   "metadata": {},
   "outputs": [
    {
     "data": {
      "text/html": [
       "<div>\n",
       "<style>\n",
       "    .dataframe thead tr:only-child th {\n",
       "        text-align: right;\n",
       "    }\n",
       "\n",
       "    .dataframe thead th {\n",
       "        text-align: left;\n",
       "    }\n",
       "\n",
       "    .dataframe tbody tr th {\n",
       "        vertical-align: top;\n",
       "    }\n",
       "</style>\n",
       "<table border=\"1\" class=\"dataframe\">\n",
       "  <thead>\n",
       "    <tr style=\"text-align: right;\">\n",
       "      <th></th>\n",
       "      <th>age</th>\n",
       "      <th>job</th>\n",
       "      <th>marital</th>\n",
       "      <th>education</th>\n",
       "      <th>default</th>\n",
       "      <th>balance</th>\n",
       "      <th>housing</th>\n",
       "      <th>loan</th>\n",
       "      <th>contact</th>\n",
       "      <th>day</th>\n",
       "      <th>month</th>\n",
       "      <th>duration</th>\n",
       "      <th>campaign</th>\n",
       "      <th>pdays</th>\n",
       "      <th>previous</th>\n",
       "      <th>poutcome</th>\n",
       "      <th>y</th>\n",
       "    </tr>\n",
       "  </thead>\n",
       "  <tbody>\n",
       "    <tr>\n",
       "      <th>0</th>\n",
       "      <td>58</td>\n",
       "      <td>management</td>\n",
       "      <td>married</td>\n",
       "      <td>tertiary</td>\n",
       "      <td>no</td>\n",
       "      <td>2143</td>\n",
       "      <td>yes</td>\n",
       "      <td>no</td>\n",
       "      <td>unknown</td>\n",
       "      <td>5</td>\n",
       "      <td>may</td>\n",
       "      <td>261</td>\n",
       "      <td>1</td>\n",
       "      <td>-1</td>\n",
       "      <td>0</td>\n",
       "      <td>unknown</td>\n",
       "      <td>0</td>\n",
       "    </tr>\n",
       "    <tr>\n",
       "      <th>1</th>\n",
       "      <td>44</td>\n",
       "      <td>technician</td>\n",
       "      <td>single</td>\n",
       "      <td>secondary</td>\n",
       "      <td>no</td>\n",
       "      <td>29</td>\n",
       "      <td>yes</td>\n",
       "      <td>no</td>\n",
       "      <td>unknown</td>\n",
       "      <td>5</td>\n",
       "      <td>may</td>\n",
       "      <td>151</td>\n",
       "      <td>1</td>\n",
       "      <td>-1</td>\n",
       "      <td>0</td>\n",
       "      <td>unknown</td>\n",
       "      <td>0</td>\n",
       "    </tr>\n",
       "    <tr>\n",
       "      <th>2</th>\n",
       "      <td>33</td>\n",
       "      <td>entrepreneur</td>\n",
       "      <td>married</td>\n",
       "      <td>secondary</td>\n",
       "      <td>no</td>\n",
       "      <td>2</td>\n",
       "      <td>yes</td>\n",
       "      <td>yes</td>\n",
       "      <td>unknown</td>\n",
       "      <td>5</td>\n",
       "      <td>may</td>\n",
       "      <td>76</td>\n",
       "      <td>1</td>\n",
       "      <td>-1</td>\n",
       "      <td>0</td>\n",
       "      <td>unknown</td>\n",
       "      <td>0</td>\n",
       "    </tr>\n",
       "    <tr>\n",
       "      <th>3</th>\n",
       "      <td>47</td>\n",
       "      <td>blue-collar</td>\n",
       "      <td>married</td>\n",
       "      <td>unknown</td>\n",
       "      <td>no</td>\n",
       "      <td>1506</td>\n",
       "      <td>yes</td>\n",
       "      <td>no</td>\n",
       "      <td>unknown</td>\n",
       "      <td>5</td>\n",
       "      <td>may</td>\n",
       "      <td>92</td>\n",
       "      <td>1</td>\n",
       "      <td>-1</td>\n",
       "      <td>0</td>\n",
       "      <td>unknown</td>\n",
       "      <td>0</td>\n",
       "    </tr>\n",
       "    <tr>\n",
       "      <th>4</th>\n",
       "      <td>33</td>\n",
       "      <td>unknown</td>\n",
       "      <td>single</td>\n",
       "      <td>unknown</td>\n",
       "      <td>no</td>\n",
       "      <td>1</td>\n",
       "      <td>no</td>\n",
       "      <td>no</td>\n",
       "      <td>unknown</td>\n",
       "      <td>5</td>\n",
       "      <td>may</td>\n",
       "      <td>198</td>\n",
       "      <td>1</td>\n",
       "      <td>-1</td>\n",
       "      <td>0</td>\n",
       "      <td>unknown</td>\n",
       "      <td>0</td>\n",
       "    </tr>\n",
       "  </tbody>\n",
       "</table>\n",
       "</div>"
      ],
      "text/plain": [
       "   age           job  marital  education default  balance housing loan  \\\n",
       "0   58    management  married   tertiary      no     2143     yes   no   \n",
       "1   44    technician   single  secondary      no       29     yes   no   \n",
       "2   33  entrepreneur  married  secondary      no        2     yes  yes   \n",
       "3   47   blue-collar  married    unknown      no     1506     yes   no   \n",
       "4   33       unknown   single    unknown      no        1      no   no   \n",
       "\n",
       "   contact  day month  duration  campaign  pdays  previous poutcome  y  \n",
       "0  unknown    5   may       261         1     -1         0  unknown  0  \n",
       "1  unknown    5   may       151         1     -1         0  unknown  0  \n",
       "2  unknown    5   may        76         1     -1         0  unknown  0  \n",
       "3  unknown    5   may        92         1     -1         0  unknown  0  \n",
       "4  unknown    5   may       198         1     -1         0  unknown  0  "
      ]
     },
     "execution_count": 9,
     "metadata": {},
     "output_type": "execute_result"
    }
   ],
   "source": [
    "data.head()"
   ]
  },
  {
   "cell_type": "code",
   "execution_count": 10,
   "metadata": {},
   "outputs": [
    {
     "data": {
      "image/png": "[encoded data removed]",
      "text/plain": [
       "<matplotlib.figure.Figure at 0x1c1a2d5ba8>"
      ]
     },
     "metadata": {},
     "output_type": "display_data"
    },
    {
     "data": {
      "image/png": "[encoded data removed]",
      "text/plain": [
       "<matplotlib.figure.Figure at 0x1c1ce40908>"
      ]
     },
     "metadata": {},
     "output_type": "display_data"
    },
    {
     "data": {
      "image/png": "[encoded data removed]",
      "text/plain": [
       "<matplotlib.figure.Figure at 0x1c1bc62d30>"
      ]
     },
     "metadata": {},
     "output_type": "display_data"
    },
    {
     "data": {
      "image/png": "[encoded data removed]",
      "text/plain": [
       "<matplotlib.figure.Figure at 0x1c1a2e84a8>"
      ]
     },
     "metadata": {},
     "output_type": "display_data"
    },
    {
     "data": {
      "image/png": "[encoded data removed]",
      "text/plain": [
       "<matplotlib.figure.Figure at 0x1a18808f60>"
      ]
     },
     "metadata": {},
     "output_type": "display_data"
    },
    {
     "data": {
      "image/png": "[encoded data removed]",
      "text/plain": [
       "<matplotlib.figure.Figure at 0x1c1a981198>"
      ]
     },
     "metadata": {},
     "output_type": "display_data"
    },
    {
     "data": {
      "image/png": "[encoded data removed]",
      "text/plain": [
       "<matplotlib.figure.Figure at 0x1c1a9758d0>"
      ]
     },
     "metadata": {},
     "output_type": "display_data"
    },
    {
     "data": {
      "image/png": "[encoded data removed]",
      "text/plain": [
       "<matplotlib.figure.Figure at 0x1c1ad166a0>"
      ]
     },
     "metadata": {},
     "output_type": "display_data"
    },
    {
     "data": {
      "image/png": "[encoded data removed]",
      "text/plain": [
       "<matplotlib.figure.Figure at 0x1c1a8ecb70>"
      ]
     },
     "metadata": {},
     "output_type": "display_data"
    }
   ],
   "source": [
    "target = 'y'\n",
    "train = ['age','balance','day','duration','campaign',\n",
    "         'pday','previous','job','marital','education',\n",
    "         'default','housing','loan','contact','month','poutcome']\n",
    "\n",
    "for col in categorical:\n",
    "    fig, axes = plt.subplots(1, 2, figsize=(10,3))\n",
    "    ax11 = plt.subplot(1,2,1)\n",
    "    ax12 = plt.subplot(1,2,2)\n",
    "    fig.suptitle('Feature: %s'%col, fontsize=10)\n",
    "    visualize_categorical(ax11,ax12,data,col,target)\n",
    "    plt.tight_layout()\n",
    "\n",
    "plt.show()"
   ]
  },
  {
   "cell_type": "markdown",
   "metadata": {},
   "source": [
    "### Missing Values & Imputation"
   ]
  },
  {
   "cell_type": "code",
   "execution_count": 343,
   "metadata": {},
   "outputs": [],
   "source": [
    "data['job'].value_counts()/len(data['job'])                   # unknown: 0.006370\n",
    "data['education'].value_counts()/len(data['education'])       # unknown: 0.041074"
   ]
  },
  {
   "cell_type": "code",
   "execution_count": 12,
   "metadata": {},
   "outputs": [
    {
     "data": {
      "text/html": [
       "<div>\n",
       "<style>\n",
       "    .dataframe thead tr:only-child th {\n",
       "        text-align: right;\n",
       "    }\n",
       "\n",
       "    .dataframe thead th {\n",
       "        text-align: left;\n",
       "    }\n",
       "\n",
       "    .dataframe tbody tr th {\n",
       "        vertical-align: top;\n",
       "    }\n",
       "</style>\n",
       "<table border=\"1\" class=\"dataframe\">\n",
       "  <thead>\n",
       "    <tr style=\"text-align: right;\">\n",
       "      <th></th>\n",
       "      <th>age</th>\n",
       "      <th>job</th>\n",
       "      <th>marital</th>\n",
       "      <th>education</th>\n",
       "      <th>default</th>\n",
       "      <th>balance</th>\n",
       "      <th>housing</th>\n",
       "      <th>loan</th>\n",
       "      <th>contact</th>\n",
       "      <th>day</th>\n",
       "      <th>month</th>\n",
       "      <th>duration</th>\n",
       "      <th>campaign</th>\n",
       "      <th>pdays</th>\n",
       "      <th>previous</th>\n",
       "      <th>poutcome</th>\n",
       "      <th>y</th>\n",
       "    </tr>\n",
       "  </thead>\n",
       "  <tbody>\n",
       "    <tr>\n",
       "      <th>0</th>\n",
       "      <td>58</td>\n",
       "      <td>management</td>\n",
       "      <td>married</td>\n",
       "      <td>tertiary</td>\n",
       "      <td>no</td>\n",
       "      <td>2143</td>\n",
       "      <td>yes</td>\n",
       "      <td>no</td>\n",
       "      <td>unknown</td>\n",
       "      <td>5</td>\n",
       "      <td>may</td>\n",
       "      <td>261</td>\n",
       "      <td>1</td>\n",
       "      <td>-1</td>\n",
       "      <td>0</td>\n",
       "      <td>unknown</td>\n",
       "      <td>0</td>\n",
       "    </tr>\n",
       "    <tr>\n",
       "      <th>1</th>\n",
       "      <td>44</td>\n",
       "      <td>technician</td>\n",
       "      <td>single</td>\n",
       "      <td>secondary</td>\n",
       "      <td>no</td>\n",
       "      <td>29</td>\n",
       "      <td>yes</td>\n",
       "      <td>no</td>\n",
       "      <td>unknown</td>\n",
       "      <td>5</td>\n",
       "      <td>may</td>\n",
       "      <td>151</td>\n",
       "      <td>1</td>\n",
       "      <td>-1</td>\n",
       "      <td>0</td>\n",
       "      <td>unknown</td>\n",
       "      <td>0</td>\n",
       "    </tr>\n",
       "    <tr>\n",
       "      <th>2</th>\n",
       "      <td>33</td>\n",
       "      <td>entrepreneur</td>\n",
       "      <td>married</td>\n",
       "      <td>secondary</td>\n",
       "      <td>no</td>\n",
       "      <td>2</td>\n",
       "      <td>yes</td>\n",
       "      <td>yes</td>\n",
       "      <td>unknown</td>\n",
       "      <td>5</td>\n",
       "      <td>may</td>\n",
       "      <td>76</td>\n",
       "      <td>1</td>\n",
       "      <td>-1</td>\n",
       "      <td>0</td>\n",
       "      <td>unknown</td>\n",
       "      <td>0</td>\n",
       "    </tr>\n",
       "    <tr>\n",
       "      <th>3</th>\n",
       "      <td>47</td>\n",
       "      <td>blue-collar</td>\n",
       "      <td>married</td>\n",
       "      <td>unknown</td>\n",
       "      <td>no</td>\n",
       "      <td>1506</td>\n",
       "      <td>yes</td>\n",
       "      <td>no</td>\n",
       "      <td>unknown</td>\n",
       "      <td>5</td>\n",
       "      <td>may</td>\n",
       "      <td>92</td>\n",
       "      <td>1</td>\n",
       "      <td>-1</td>\n",
       "      <td>0</td>\n",
       "      <td>unknown</td>\n",
       "      <td>0</td>\n",
       "    </tr>\n",
       "    <tr>\n",
       "      <th>4</th>\n",
       "      <td>33</td>\n",
       "      <td>blue-collar</td>\n",
       "      <td>single</td>\n",
       "      <td>unknown</td>\n",
       "      <td>no</td>\n",
       "      <td>1</td>\n",
       "      <td>no</td>\n",
       "      <td>no</td>\n",
       "      <td>unknown</td>\n",
       "      <td>5</td>\n",
       "      <td>may</td>\n",
       "      <td>198</td>\n",
       "      <td>1</td>\n",
       "      <td>-1</td>\n",
       "      <td>0</td>\n",
       "      <td>unknown</td>\n",
       "      <td>0</td>\n",
       "    </tr>\n",
       "  </tbody>\n",
       "</table>\n",
       "</div>"
      ],
      "text/plain": [
       "   age           job  marital  education default  balance housing loan  \\\n",
       "0   58    management  married   tertiary      no     2143     yes   no   \n",
       "1   44    technician   single  secondary      no       29     yes   no   \n",
       "2   33  entrepreneur  married  secondary      no        2     yes  yes   \n",
       "3   47   blue-collar  married    unknown      no     1506     yes   no   \n",
       "4   33   blue-collar   single    unknown      no        1      no   no   \n",
       "\n",
       "   contact  day month  duration  campaign  pdays  previous poutcome  y  \n",
       "0  unknown    5   may       261         1     -1         0  unknown  0  \n",
       "1  unknown    5   may       151         1     -1         0  unknown  0  \n",
       "2  unknown    5   may        76         1     -1         0  unknown  0  \n",
       "3  unknown    5   may        92         1     -1         0  unknown  0  \n",
       "4  unknown    5   may       198         1     -1         0  unknown  0  "
      ]
     },
     "execution_count": 12,
     "metadata": {},
     "output_type": "execute_result"
    }
   ],
   "source": [
    "data.loc[data.job == 'unknown','job'] = 'blue-collar'\n",
    "data.head()"
   ]
  },
  {
   "cell_type": "markdown",
   "metadata": {},
   "source": [
    "# Data Preprocessing\n",
    "\n",
    "- Convert categorical variable into dummy/indicator variables.\n",
    "- Set dependent variable to binary indicator, 0 for \"no\" and 1 for \"yes\".\n",
    "- Normalize numerical variables to obtain mean zero and variance one"
   ]
  },
  {
   "cell_type": "code",
   "execution_count": 13,
   "metadata": {
    "collapsed": true
   },
   "outputs": [],
   "source": [
    "# Convert categorical variable into dummy/indicator variables\n",
    "df = pd.get_dummies(data, columns=['job','marital','education','default','housing',\n",
    "              'loan','contact','month','poutcome'])\n",
    "\n",
    "# Standardiza numerical variables\n",
    "scaler = StandardScaler()\n",
    "num = df.iloc[:,0:7]\n",
    "num = scaler.fit_transform(num)\n",
    "num = pd.DataFrame(num)\n",
    "num.columns = ['age','balance','day','duration','campaign','pday','previous']\n",
    "df = pd.concat([num, df.iloc[:,7:]], axis=1)\n",
    "\n",
    "# before # of variable: 16\n",
    "# now # of variable: 50"
   ]
  },
  {
   "cell_type": "markdown",
   "metadata": {},
   "source": [
    "### Split Training and Testing data\n",
    "Because of imbalanced data, *stratify* makes a split so taht the proportion of values in the sample produced will be the same as the proportion of vlalues provided to parameter *stratify*.\n",
    "\n",
    "Let's now split data into a train set and a test set."
   ]
  },
  {
   "cell_type": "code",
   "execution_count": 134,
   "metadata": {
    "collapsed": true
   },
   "outputs": [],
   "source": [
    "# Split training and test set\n",
    "X_train, X_test, y_train, y_test = train_test_split(df.drop('y', axis=1).values, df['y'].values, \n",
    "                                                    stratify=df['y'].values, random_state=0)\n",
    "\n",
    "# percent of \"yes\" in training set: y_train.sum()/len(y_train) --> 0.117\n",
    "# precent of \"no\" in testing set: y_test.sum()/len(y_test)     --> 0.117"
   ]
  },
  {
   "cell_type": "markdown",
   "metadata": {},
   "source": [
    "### Imbalanced Data\n",
    "http://contrib.scikit-learn.org/imbalanced-learn/stable/index.html"
   ]
  },
  {
   "cell_type": "code",
   "execution_count": 15,
   "metadata": {},
   "outputs": [
    {
     "name": "stdout",
     "output_type": "stream",
     "text": [
      "[29941  3967]\n"
     ]
    }
   ],
   "source": [
    "print(np.bincount(y_train))   \n",
    "# original data:\n",
    "# no 29941\n",
    "# yes 3967"
   ]
  },
  {
   "cell_type": "code",
   "execution_count": 16,
   "metadata": {},
   "outputs": [
    {
     "name": "stdout",
     "output_type": "stream",
     "text": [
      "[3967 3967]\n"
     ]
    }
   ],
   "source": [
    "rus = RandomUnderSampler(replacement=False)\n",
    "X_train_subsample, y_train_subsample = rus.fit_sample(X_train, y_train)\n",
    "print(np.bincount(y_train_subsample))"
   ]
  },
  {
   "cell_type": "code",
   "execution_count": 17,
   "metadata": {},
   "outputs": [
    {
     "name": "stdout",
     "output_type": "stream",
     "text": [
      "[29941 29941]\n"
     ]
    }
   ],
   "source": [
    "smote = SMOTE()\n",
    "X_train_smote, y_train_smote = smote.fit_sample(X_train, y_train)\n",
    "print(np.bincount(y_train_smote))"
   ]
  },
  {
   "cell_type": "code",
   "execution_count": 20,
   "metadata": {},
   "outputs": [
    {
     "name": "stdout",
     "output_type": "stream",
     "text": [
      "(4, 7934, 50)\n"
     ]
    }
   ],
   "source": [
    "ee = EasyEnsemble(random_state=0, n_subsets=4)\n",
    "X_train_ee, y_train_ee = ee.fit_sample(X_train, y_train)\n",
    "print(X_train_ee.shape)"
   ]
  },
  {
   "cell_type": "markdown",
   "metadata": {
    "collapsed": true
   },
   "source": [
    "# Feature Engineering\n",
    "\n",
    "### Feature Extraction: PCA"
   ]
  },
  {
   "cell_type": "code",
   "execution_count": 349,
   "metadata": {},
   "outputs": [
    {
     "data": {
      "image/png": "[encoded data removed]",
      "text/plain": [
       "<matplotlib.figure.Figure at 0x1c1a5c8278>"
      ]
     },
     "metadata": {},
     "output_type": "display_data"
    }
   ],
   "source": [
    "'''PCA with Imbalanced Data'''\n",
    "pca = PCA()\n",
    "X_train_pca = pca.fit_transform(X_train)\n",
    "fig, (ax11, ax12) = plt.subplots(1, 2, figsize=(10,3))\n",
    "ax11.plot(pca.explained_variance_ratio_)\n",
    "ax11.title.set_text('Percent of Explained Variance')\n",
    "cum_explained_var_ratio = []\n",
    "for i in range(len(pca.explained_variance_ratio_)):\n",
    "    if i == 0:\n",
    "        cum_explained_var_ratio.append(pca.explained_variance_ratio_[i])\n",
    "    else:\n",
    "        cum_explained_var_ratio.append(cum_explained_var_ratio[i-1] + pca.explained_variance_ratio_[i])\n",
    "ax12.plot(cum_explained_var_ratio)\n",
    "ax12.title.set_text('Cumulative Percentage of Explained Variance')\n",
    "plt.show()\n",
    "# 17 variables -> 90%\n",
    "# 24 variables -> 95%\n",
    "# 35 variables -> 99%"
   ]
  },
  {
   "cell_type": "code",
   "execution_count": 350,
   "metadata": {},
   "outputs": [
    {
     "data": {
      "image/png": "[encoded data removed]",
      "text/plain": [
       "<matplotlib.figure.Figure at 0x1c1b2f0cc0>"
      ]
     },
     "metadata": {},
     "output_type": "display_data"
    }
   ],
   "source": [
    "'''PCA with Balanced Data: RandomUnderSampler'''\n",
    "X_train_pca = pca.fit_transform(X_train_subsample)\n",
    "fig, (ax11, ax12) = plt.subplots(1, 2, figsize=(10,3))\n",
    "ax11.plot(pca.explained_variance_ratio_)\n",
    "ax11.title.set_text('Percent of Explained Variance')\n",
    "cum_explained_var_ratio = []\n",
    "for i in range(len(pca.explained_variance_ratio_)):\n",
    "    if i == 0:\n",
    "        cum_explained_var_ratio.append(pca.explained_variance_ratio_[i])\n",
    "    else:\n",
    "        cum_explained_var_ratio.append(cum_explained_var_ratio[i-1] + pca.explained_variance_ratio_[i])\n",
    "ax12.plot(cum_explained_var_ratio)\n",
    "ax12.plot((18,18),(0,cum_explained_var_ratio[17]),'r--', linewidth=1.0)\n",
    "ax12.plot((0,17),(cum_explained_var_ratio[17],cum_explained_var_ratio[17]),'r--', linewidth=1.0)\n",
    "\n",
    "ax12.title.set_text('Cumulative Percentage of Explained Variance')\n",
    "plt.show()\n",
    "# 18 -> 90%\n",
    "# 25 -> 95%\n",
    "# 36 -> 99%"
   ]
  },
  {
   "cell_type": "code",
   "execution_count": 351,
   "metadata": {},
   "outputs": [
    {
     "data": {
      "image/png": "[encoded data removed]",
      "text/plain": [
       "<matplotlib.figure.Figure at 0x1c2b95f1d0>"
      ]
     },
     "metadata": {},
     "output_type": "display_data"
    }
   ],
   "source": [
    "'''PCA with Balanced Data: SMOTE'''\n",
    "X_train_pca = pca.fit_transform(X_train_smote)\n",
    "fig, (ax11, ax12) = plt.subplots(1, 2, figsize=(10,3))\n",
    "ax11.plot(pca.explained_variance_ratio_)\n",
    "ax11.title.set_text('Percent of Explained Variance')\n",
    "cum_explained_var_ratio = []\n",
    "for i in range(len(pca.explained_variance_ratio_)):\n",
    "    if i == 0:\n",
    "        cum_explained_var_ratio.append(pca.explained_variance_ratio_[i])\n",
    "    else:\n",
    "        cum_explained_var_ratio.append(cum_explained_var_ratio[i-1] + pca.explained_variance_ratio_[i])\n",
    "ax12.plot(cum_explained_var_ratio)\n",
    "ax12.plot((17,17),(0,cum_explained_var_ratio[16]),'r--', linewidth=1.0)\n",
    "ax12.plot((0,17),(cum_explained_var_ratio[16],cum_explained_var_ratio[16]),'r--', linewidth=1.0)\n",
    "\n",
    "ax12.title.set_text('Cumulative Percentage of Explained Variance')\n",
    "plt.show()\n",
    "# 17 -> 90%\n",
    "# 24 -> 95%\n",
    "# 36 -> 99%"
   ]
  },
  {
   "cell_type": "code",
   "execution_count": 45,
   "metadata": {},
   "outputs": [
    {
     "data": {
      "text/plain": [
       "<matplotlib.axes._subplots.AxesSubplot at 0x1c1ce61048>"
      ]
     },
     "execution_count": 45,
     "metadata": {},
     "output_type": "execute_result"
    },
    {
     "data": {
      "image/png": "[encoded data removed]",
      "text/plain": [
       "<matplotlib.figure.Figure at 0x1c1adbd4a8>"
      ]
     },
     "metadata": {},
     "output_type": "display_data"
    }
   ],
   "source": [
    "%matplotlib inline\n",
    "\n",
    "fig, ax = plt.subplots(figsize=(20,8))\n",
    "col = df.drop('y',axis=1).columns.values\n",
    "sns.heatmap(pd.DataFrame(pca.components_[0:17,:], columns = col), ax=ax, annot=False, linewidths=.1, fmt=\"d\")\n",
    "# pca.components_.shape = (n_components, n_features)"
   ]
  },
  {
   "cell_type": "markdown",
   "metadata": {},
   "source": [
    "### Feature Selection: *SelectKBest* and *F_classif*\n"
   ]
  },
  {
   "cell_type": "code",
   "execution_count": 352,
   "metadata": {},
   "outputs": [
    {
     "data": {
      "text/plain": [
       "<matplotlib.figure.Figure at 0x1c2bc44780>"
      ]
     },
     "execution_count": 352,
     "metadata": {},
     "output_type": "execute_result"
    },
    {
     "data": {
      "image/png": "[encoded data removed]",
      "text/plain": [
       "<matplotlib.figure.Figure at 0x1c298d8d68>"
      ]
     },
     "metadata": {},
     "output_type": "display_data"
    },
    {
     "data": {
      "text/plain": [
       "<matplotlib.figure.Figure at 0x1c2bc44780>"
      ]
     },
     "metadata": {},
     "output_type": "display_data"
    }
   ],
   "source": [
    "from matplotlib.transforms import Affine2D\n",
    "import mpl_toolkits.axisartist.floating_axes as floating_axes\n",
    "\n",
    "f_values, p_values = f_classif(X_train_smote, y_train_smote)\n",
    "x_vars = [x for x in df.drop('y',axis=1).columns.values]\n",
    "plt.xticks(range(X_train_smote.shape[1]), x_vars, rotation='vertical')\n",
    "line_f, = plt.plot(p_values, 'o')\n",
    "plt.ylabel(\"F value\")\n",
    "plt.figure(figsize=(300,160))"
   ]
  },
  {
   "cell_type": "code",
   "execution_count": 347,
   "metadata": {},
   "outputs": [
    {
     "name": "stdout",
     "output_type": "stream",
     "text": [
      "95% Significant level, number of variables needed: 47\n",
      "99% Significant level, number of variables needed: 46\n",
      "99.9% Significant level, number of variables needed: 44\n"
     ]
    }
   ],
   "source": [
    "print(\"95% Significant level, number of variables needed: {:}\".format(sum(abs(float(i)) < 0.05 for i in p_values)))\n",
    "print(\"99% Significant level, number of variables needed: {:}\".format(sum(abs(float(i)) < 0.02 for i in p_values)))\n",
    "print(\"99.9% Significant level, number of variables needed: {:}\".format(sum(abs(float(i)) < 0.001 for i in p_values)))"
   ]
  },
  {
   "cell_type": "markdown",
   "metadata": {},
   "source": [
    "# Model Data\n",
    "\n",
    "### Logistic Regression"
   ]
  },
  {
   "cell_type": "code",
   "execution_count": 261,
   "metadata": {},
   "outputs": [
    {
     "name": "stdout",
     "output_type": "stream",
     "text": [
      "best mean cross-validation score: 0.909\n",
      "best parameters: {'logisticregression__C': 10.0}\n",
      "test-set score: 0.910\n"
     ]
    }
   ],
   "source": [
    "from sklearn.linear_model import LogisticRegression\n",
    "param_grid = {'logisticregression__C': np.logspace(-4, 4, 9)}\n",
    "\n",
    "scaled = make_imb_pipeline(RandomUnderSampler(replacement=False), SelectKBest(f_classif, k=44), LogisticRegression())\n",
    "grid = GridSearchCV(scaled, param_grid=param_grid, cv=3, scoring='roc_auc')\n",
    "grid.fit(X_train, y_train)\n",
    "print(\"best mean cross-validation score: {:.3f}\".format(grid.best_score_))\n",
    "print(\"best parameters: {}\".format(grid.best_params_))\n",
    "print(\"test-set score: {:.3f}\".format(grid.score(X_test, y_test)))"
   ]
  },
  {
   "cell_type": "code",
   "execution_count": 338,
   "metadata": {},
   "outputs": [
    {
     "name": "stdout",
     "output_type": "stream",
     "text": [
      "best mean cross-validation score: 0.896\n",
      "best parameters: {'logisticregression__C': 10.0}\n",
      "test-set score: 0.896\n"
     ]
    }
   ],
   "source": [
    "param_grid = {'logisticregression__C': np.logspace(-4, 4, 9)}\n",
    "\n",
    "scaled = make_imb_pipeline(RandomUnderSampler(replacement=False), PCA(n_components=24), LogisticRegression())\n",
    "grid = GridSearchCV(scaled, param_grid=param_grid, cv=3, scoring='roc_auc')\n",
    "grid.fit(X_train, y_train)\n",
    "print(\"best mean cross-validation score: {:.3f}\".format(grid.best_score_))\n",
    "print(\"best parameters: {}\".format(grid.best_params_))\n",
    "print(\"test-set score: {:.3f}\".format(grid.score(X_test, y_test)))"
   ]
  },
  {
   "cell_type": "markdown",
   "metadata": {},
   "source": [
    "### SVM"
   ]
  },
  {
   "cell_type": "code",
   "execution_count": 262,
   "metadata": {},
   "outputs": [
    {
     "name": "stdout",
     "output_type": "stream",
     "text": [
      "best mean cross-validation score: 0.909\n",
      "best parameters: {'svc__kernel': 'rbf'}\n",
      "test-set score: 0.909\n"
     ]
    }
   ],
   "source": [
    "from sklearn.svm import SVC\n",
    "from sklearn.model_selection import GridSearchCV\n",
    "\n",
    "param_grid = {'svc__kernel': ['rbf','linear','poly','sigmoid']}\n",
    "scaled = make_imb_pipeline(RandomUnderSampler(), PCA(n_components=24), SVC())\n",
    "grid = GridSearchCV(scaled, param_grid=param_grid, cv=3, scoring='roc_auc')\n",
    "grid.fit(X_train, y_train)\n",
    "print(\"best mean cross-validation score: {:.3f}\".format(grid.best_score_))\n",
    "print(\"best parameters: {}\".format(grid.best_params_))\n",
    "print(\"test-set score: {:.3f}\".format(grid.score(X_test, y_test)))"
   ]
  },
  {
   "cell_type": "code",
   "execution_count": 311,
   "metadata": {},
   "outputs": [
    {
     "name": "stdout",
     "output_type": "stream",
     "text": [
      "best mean cross-validation score: 0.913\n",
      "best parameters: {'svc__kernel': 'rbf'}\n",
      "test-set score: 0.917\n"
     ]
    }
   ],
   "source": [
    "from sklearn.svm import SVC\n",
    "from sklearn.model_selection import GridSearchCV\n",
    "\n",
    "param_grid = {'svc__kernel': ['rbf','linear','poly','sigmoid']}\n",
    "scaled = make_imb_pipeline(RandomUnderSampler(), SelectKBest(f_classif, k=44), SVC())\n",
    "grid = GridSearchCV(scaled, param_grid=param_grid, cv=3, scoring='roc_auc')\n",
    "grid.fit(X_train, y_train)\n",
    "print(\"best mean cross-validation score: {:.3f}\".format(grid.best_score_))\n",
    "print(\"best parameters: {}\".format(grid.best_params_))\n",
    "print(\"test-set score: {:.3f}\".format(grid.score(X_test, y_test)))"
   ]
  },
  {
   "cell_type": "markdown",
   "metadata": {},
   "source": [
    "### Random Forest"
   ]
  },
  {
   "cell_type": "code",
   "execution_count": 188,
   "metadata": {},
   "outputs": [
    {
     "name": "stdout",
     "output_type": "stream",
     "text": [
      "best mean cross-validation score: 0.918\n",
      "best parameters: {'randomforestclassifier__max_depth': 20, 'randomforestclassifier__min_samples_split': 12, 'randomforestclassifier__n_estimators': 110}\n",
      "test-set score: 0.917\n"
     ]
    }
   ],
   "source": [
    "param_grid = {'randomforestclassifier__max_depth': np.arange(4,22,2),\n",
    "             'randomforestclassifier__n_estimators': np.arange(20,120,10),\n",
    "             'randomforestclassifier__min_samples_split': np.arange(2,20,2)}\n",
    "pipe_k = make_imb_pipeline(RandomUnderSampler(), PCA(n_components=24), RandomForestClassifier())\n",
    "grid = GridSearchCV(pipe_k, param_grid=param_grid, cv=3, scoring='roc_auc')\n",
    "grid.fit(X_train, y_train)\n",
    "print(\"best mean cross-validation score: {:.3f}\".format(grid.best_score_))\n",
    "print(\"best parameters: {}\".format(grid.best_params_))\n",
    "print(\"test-set score: {:.3f}\".format(grid.score(X_test, y_test)))"
   ]
  },
  {
   "cell_type": "code",
   "execution_count": 312,
   "metadata": {},
   "outputs": [
    {
     "name": "stdout",
     "output_type": "stream",
     "text": [
      "best mean cross-validation score: 0.922\n",
      "best parameters: {'randomforestclassifier__max_depth': 20, 'randomforestclassifier__min_samples_split': 14, 'randomforestclassifier__n_estimators': 90}\n",
      "test-set score: 0.922\n"
     ]
    }
   ],
   "source": [
    "param_grid = {'randomforestclassifier__max_depth': np.arange(4,22,2),\n",
    "             'randomforestclassifier__n_estimators': np.arange(20,120,10),\n",
    "             'randomforestclassifier__min_samples_split': np.arange(2,20,2)}\n",
    "pipe_k = make_imb_pipeline(RandomUnderSampler(), SelectKBest(f_classif, k=44), RandomForestClassifier())\n",
    "grid = GridSearchCV(pipe_k, param_grid=param_grid, cv=3, scoring='roc_auc')\n",
    "grid.fit(X_train, y_train)\n",
    "print(\"best mean cross-validation score: {:.3f}\".format(grid.best_score_))\n",
    "print(\"best parameters: {}\".format(grid.best_params_))\n",
    "print(\"test-set score: {:.3f}\".format(grid.score(X_test, y_test)))"
   ]
  },
  {
   "cell_type": "markdown",
   "metadata": {},
   "source": [
    "### KNN"
   ]
  },
  {
   "cell_type": "code",
   "execution_count": 313,
   "metadata": {},
   "outputs": [
    {
     "name": "stdout",
     "output_type": "stream",
     "text": [
      "best mean cross-validation score: 0.895\n",
      "best parameters: {'kneighborsclassifier__n_neighbors': 9, 'kneighborsclassifier__weights': 'distance'}\n",
      "test-set score: 0.895\n"
     ]
    }
   ],
   "source": [
    "from sklearn.neighbors import KNeighborsClassifier\n",
    "\n",
    "param_grid = {'kneighborsclassifier__n_neighbors': np.arange(2,11,1),\n",
    "              'kneighborsclassifier__weights': ['uniform', 'distance']}\n",
    "scaled = make_imb_pipeline(RandomUnderSampler(), SelectKBest(f_classif, k=44),KNeighborsClassifier())\n",
    "grid = GridSearchCV(scaled, param_grid=param_grid, cv=3, scoring='roc_auc')\n",
    "grid.fit(X_train, y_train)\n",
    "print(\"best mean cross-validation score: {:.3f}\".format(grid.best_score_))\n",
    "print(\"best parameters: {}\".format(grid.best_params_))\n",
    "print(\"test-set score: {:.3f}\".format(grid.score(X_test, y_test)))"
   ]
  },
  {
   "cell_type": "code",
   "execution_count": 267,
   "metadata": {},
   "outputs": [
    {
     "name": "stdout",
     "output_type": "stream",
     "text": [
      "best mean cross-validation score: 0.881\n",
      "best parameters: {'kneighborsclassifier__n_neighbors': 10, 'kneighborsclassifier__weights': 'distance'}\n",
      "test-set score: 0.883\n"
     ]
    }
   ],
   "source": [
    "param_grid = {'kneighborsclassifier__n_neighbors': np.arange(2,11,1),\n",
    "              'kneighborsclassifier__weights': ['uniform', 'distance']}\n",
    "scaled = make_imb_pipeline(StandardScaler(), RandomUnderSampler(), PCA(n_components=24), KNeighborsClassifier())\n",
    "grid = GridSearchCV(scaled, param_grid=param_grid, cv=3, scoring='roc_auc')\n",
    "grid.fit(X_train, y_train)\n",
    "print(\"best mean cross-validation score: {:.3f}\".format(grid.best_score_))\n",
    "print(\"best parameters: {}\".format(grid.best_params_))\n",
    "print(\"test-set score: {:.3f}\".format(grid.score(X_test, y_test)))"
   ]
  },
  {
   "cell_type": "code",
   "execution_count": 184,
   "metadata": {},
   "outputs": [
    {
     "name": "stdout",
     "output_type": "stream",
     "text": [
      "best mean cross-validation score: 0.500\n",
      "best parameters: {'baggingclassifier__max_samples': 5}\n",
      "test-set score: 0.500\n"
     ]
    }
   ],
   "source": [
    "# from sklearn.ensemble import BaggingClassifier, GradientBoostingClassifier, AdaBoostClassifier, VotingClassifier\n",
    "\n",
    "# param_grid = {'baggingclassifier__max_samples': [5,6,7,8,9,10]}\n",
    "# scaled = make_imb_pipeline(RandomUnderSampler(replacement=False), BaggingClassifier(random_state=0))\n",
    "# grid = GridSearchCV(scaled, param_grid=param_grid, cv=3, scoring='roc_auc')\n",
    "# grid.fit(X_train, y_train)\n",
    "# print(\"best mean cross-validation score: {:.3f}\".format(grid.best_score_))\n",
    "# print(\"best parameters: {}\".format(grid.best_params_))\n",
    "# print(\"test-set score: {:.3f}\".format(grid.score(X_test, y_test)))"
   ]
  },
  {
   "cell_type": "code",
   "execution_count": 331,
   "metadata": {},
   "outputs": [
    {
     "name": "stdout",
     "output_type": "stream",
     "text": [
      "best mean cross-validation score: 0.922\n",
      "best parameters: {'gradientboostingclassifier__max_features': 44}\n",
      "test-set score: 0.924\n"
     ]
    }
   ],
   "source": [
    "param_grid = {'gradientboostingclassifier__max_features': [44,46,47]}\n",
    "scaled = make_imb_pipeline(RandomUnderSampler(random_state=0), \n",
    "                           GradientBoostingClassifier(random_state=0))\n",
    "grid = GridSearchCV(scaled, param_grid=param_grid, cv=3, scoring='roc_auc')\n",
    "grid.fit(X_train, y_train)\n",
    "print(\"best mean cross-validation score: {:.3f}\".format(grid.best_score_))\n",
    "print(\"best parameters: {}\".format(grid.best_params_))\n",
    "print(\"test-set score: {:.3f}\".format(grid.score(X_test, y_test)))"
   ]
  },
  {
   "cell_type": "code",
   "execution_count": 182,
   "metadata": {},
   "outputs": [
    {
     "name": "stdout",
     "output_type": "stream",
     "text": [
      "best mean cross-validation score: 0.909\n",
      "best parameters: {'adaboostclassifier__n_estimators': 75}\n",
      "test-set score: 0.910\n"
     ]
    }
   ],
   "source": [
    "param_grid = {'adaboostclassifier__n_estimators': np.arange(15, 80, 5)}\n",
    "scaled = make_imb_pipeline(RandomUnderSampler(replacement=False), AdaBoostClassifier(random_state=0))\n",
    "grid = GridSearchCV(scaled, param_grid=param_grid, cv=3, scoring='roc_auc')\n",
    "grid.fit(X_train, y_train)\n",
    "print(\"best mean cross-validation score: {:.3f}\".format(grid.best_score_))\n",
    "print(\"best parameters: {}\".format(grid.best_params_))\n",
    "print(\"test-set score: {:.3f}\".format(grid.score(X_test, y_test)))"
   ]
  },
  {
   "cell_type": "code",
   "execution_count": 330,
   "metadata": {},
   "outputs": [
    {
     "name": "stdout",
     "output_type": "stream",
     "text": [
      "best mean cross-validation score: 0.909\n",
      "best parameters: {'adaboostclassifier__n_estimators': 65}\n",
      "test-set score: 0.909\n"
     ]
    }
   ],
   "source": [
    "param_grid = {'adaboostclassifier__n_estimators': np.arange(15, 80, 5)}\n",
    "scaled = make_imb_pipeline(RandomUnderSampler(random_state=0), \n",
    "                           SelectKBest(f_classif, k=44), \n",
    "                           AdaBoostClassifier(random_state=0))\n",
    "grid = GridSearchCV(scaled, param_grid=param_grid, cv=3, scoring='roc_auc')\n",
    "grid.fit(X_train, y_train)\n",
    "print(\"best mean cross-validation score: {:.3f}\".format(grid.best_score_))\n",
    "print(\"best parameters: {}\".format(grid.best_params_))\n",
    "print(\"test-set score: {:.3f}\".format(grid.score(X_test, y_test)))"
   ]
  },
  {
   "cell_type": "code",
   "execution_count": 329,
   "metadata": {},
   "outputs": [
    {
     "name": "stdout",
     "output_type": "stream",
     "text": [
      "best mean cross-validation score: 0.892\n",
      "best parameters: {'adaboostclassifier__n_estimators': 70}\n",
      "test-set score: 0.896\n"
     ]
    }
   ],
   "source": [
    "param_grid = {'adaboostclassifier__n_estimators': np.arange(15, 80, 5)}\n",
    "scaled = make_imb_pipeline(RandomUnderSampler(random_state=0), \n",
    "                           PCA(n_components=24), \n",
    "                           AdaBoostClassifier(random_state=0))\n",
    "grid = GridSearchCV(scaled, param_grid=param_grid, cv=3, scoring='roc_auc')\n",
    "grid.fit(X_train, y_train)\n",
    "print(\"best mean cross-validation score: {:.3f}\".format(grid.best_score_))\n",
    "print(\"best parameters: {}\".format(grid.best_params_))\n",
    "print(\"test-set score: {:.3f}\".format(grid.score(X_test, y_test)))"
   ]
  },
  {
   "cell_type": "code",
   "execution_count": 326,
   "metadata": {},
   "outputs": [
    {
     "name": "stdout",
     "output_type": "stream",
     "text": [
      "[[8404 1577]\n",
      " [ 276 1046]]\n"
     ]
    }
   ],
   "source": [
    "from sklearn.metrics import confusion_matrix\n",
    "pred = grid.predict(X_test)\n",
    "print(confusion_matrix(y_test, pred))"
   ]
  },
  {
   "cell_type": "code",
   "execution_count": 306,
   "metadata": {},
   "outputs": [
    {
     "name": "stdout",
     "output_type": "stream",
     "text": [
      "0.83 0.84 0.82 0.81 0.83 0.84 \n"
     ]
    }
   ],
   "source": [
    "clf1 = make_imb_pipeline(RandomUnderSampler(), SelectKBest(f_classif, k=44), LogisticRegression(C=10))\n",
    "clf2 = make_imb_pipeline(RandomUnderSampler(), PCA(n_components=24), SVC(probability=True))\n",
    "clf3 = make_imb_pipeline(RandomUnderSampler(), PCA(n_components=24), RandomForestClassifier(max_depth=20, min_samples_split=12, n_estimators=110,random_state=0))\n",
    "clf4 = make_imb_pipeline(RandomUnderSampler(), GradientBoostingClassifier(random_state=0, max_features=44))\n",
    "clf5 = make_imb_pipeline(RandomUnderSampler(), SelectKBest(f_classif, k=44), AdaBoostClassifier(random_state=0,n_estimators=75))\n",
    "\n",
    "voting = VotingClassifier([('lr', clf1),\n",
    "                           ('svc', clf2),\n",
    "                           ('rf', clf3),\n",
    "                           ('gb', clf4),\n",
    "                           ('ab', clf5)],\n",
    "                         voting='hard', weights = [1,1,1,1,1])\n",
    "voting.fit(X_train, y_train)\n",
    "lr, svc, rf, gb, ab = voting.estimators_\n",
    "print((\"{:.2f} \" * 6).format(voting.score(X_test, y_test),\n",
    "                             lr.score(X_test, y_test), \n",
    "                             svc.score(X_test, y_test),\n",
    "                             rf.score(X_test, y_test),\n",
    "                             gb.score(X_test, y_test),\n",
    "                             ab.score(X_test, y_test)))"
   ]
  },
  {
   "cell_type": "code",
   "execution_count": 333,
   "metadata": {
    "collapsed": true
   },
   "outputs": [],
   "source": [
    "# for clf, label in zip([clf1, clf2, clf3, clf4, clf5, voting], ['Logistic Regression', 'SVC', 'Random Forest', 'Gradient Boosting', 'AdaBoost','Ensemble']):\n",
    "#     scores = cross_val_score(clf, X_train, y_train, cv=5, scoring='roc_auc')\n",
    "# print(\"ROC_AUC: %0.2f (+/- %0.2f) [%s]\" % (scores.mean(), scores.std(), label))"
   ]
  },
  {
   "cell_type": "markdown",
   "metadata": {},
   "source": [
    "# -------------------- Analysis End Here --------------------"
   ]
  },
  {
   "cell_type": "code",
   "execution_count": 195,
   "metadata": {},
   "outputs": [
    {
     "data": {
      "text/plain": [
       "Index(['age', 'balance', 'day', 'duration', 'campaign', 'pday', 'previous',\n",
       "       'y', 'job_admin.', 'job_blue-collar', 'job_entrepreneur',\n",
       "       'job_housemaid', 'job_management', 'job_retired', 'job_self-employed',\n",
       "       'job_services', 'job_student', 'job_technician', 'job_unemployed',\n",
       "       'marital_divorced', 'marital_married', 'marital_single',\n",
       "       'education_primary', 'education_secondary', 'education_tertiary',\n",
       "       'education_unknown', 'default_no', 'default_yes', 'housing_no',\n",
       "       'housing_yes', 'loan_no', 'loan_yes', 'contact_cellular',\n",
       "       'contact_telephone', 'contact_unknown', 'month_apr', 'month_aug',\n",
       "       'month_dec', 'month_feb', 'month_jan', 'month_jul', 'month_jun',\n",
       "       'month_mar', 'month_may', 'month_nov', 'month_oct', 'month_sep',\n",
       "       'poutcome_failure', 'poutcome_other', 'poutcome_success',\n",
       "       'poutcome_unknown'],\n",
       "      dtype='object')"
      ]
     },
     "execution_count": 195,
     "metadata": {},
     "output_type": "execute_result"
    }
   ],
   "source": [
    "df.columns"
   ]
  },
  {
   "cell_type": "code",
   "execution_count": 259,
   "metadata": {},
   "outputs": [
    {
     "name": "stdout",
     "output_type": "stream",
     "text": [
      "Number of features before encoding: 16\n",
      "Number of features after encoding: 50\n"
     ]
    }
   ],
   "source": [
    "print(\"Number of features before encoding: {:}\".format(data.shape[1]-1)) \n",
    "df = pd.get_dummies(data, columns=['job','marital','education','default','housing',\n",
    "              'loan','contact','month','poutcome'])\n",
    "print(\"Number of features after encoding: {:}\".format(df.shape[1]-1))"
   ]
  },
  {
   "cell_type": "code",
   "execution_count": null,
   "metadata": {
    "collapsed": true
   },
   "outputs": [],
   "source": []
  }
 ],
 "metadata": {
  "kernelspec": {
   "display_name": "Python 3",
   "language": "python",
   "name": "python3"
  },
  "language_info": {
   "codemirror_mode": {
    "name": "ipython",
    "version": 3
   },
   "file_extension": ".py",
   "mimetype": "text/x-python",
   "name": "python",
   "nbconvert_exporter": "python",
   "pygments_lexer": "ipython3",
   "version": "3.6.1"
  }
 },
 "nbformat": 4,
 "nbformat_minor": 2
}
